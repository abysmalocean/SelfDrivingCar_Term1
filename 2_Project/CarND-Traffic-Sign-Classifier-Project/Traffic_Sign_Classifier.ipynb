{
 "cells": [
  {
   "cell_type": "markdown",
   "metadata": {},
   "source": [
    "# Self-Driving Car Engineer Nanodegree\n",
    "\n",
    "## Deep Learning\n",
    "\n",
    "## Project: Build a Traffic Sign Recognition Classifier\n",
    "\n",
    "In this notebook, a template is provided for you to implement your functionality in stages, which is required to successfully complete this project. If additional code is required that cannot be included in the notebook, be sure that the Python code is successfully imported and included in your submission if necessary. \n",
    "\n",
    "> **Note**: Once you have completed all of the code implementations, you need to finalize your work by exporting the iPython Notebook as an HTML document. Before exporting the notebook to html, all of the code cells need to have been run so that reviewers can see the final implementation and output. You can then export the notebook by using the menu above and navigating to  \\n\",\n",
    "    \"**File -> Download as -> HTML (.html)**. Include the finished document along with this notebook as your submission. \n",
    "\n",
    "In addition to implementing code, there is a writeup to complete. The writeup should be completed in a separate file, which can be either a markdown file or a pdf document. There is a [write up template](https://github.com/udacity/CarND-Traffic-Sign-Classifier-Project/blob/master/writeup_template.md) that can be used to guide the writing process. Completing the code template and writeup template will cover all of the [rubric points](https://review.udacity.com/#!/rubrics/481/view) for this project.\n",
    "\n",
    "The [rubric](https://review.udacity.com/#!/rubrics/481/view) contains \"Stand Out Suggestions\" for enhancing the project beyond the minimum requirements. The stand out suggestions are optional. If you decide to pursue the \"stand out suggestions\", you can include the code in this Ipython notebook and also discuss the results in the writeup file.\n",
    "\n",
    "\n",
    ">**Note:** Code and Markdown cells can be executed using the **Shift + Enter** keyboard shortcut. In addition, Markdown cells can be edited by typically double-clicking the cell to enter edit mode."
   ]
  },
  {
   "cell_type": "markdown",
   "metadata": {},
   "source": [
    "---\n",
    "## Step 0: Load The Data"
   ]
  },
  {
   "cell_type": "code",
   "execution_count": 70,
   "metadata": {
    "collapsed": true
   },
   "outputs": [],
   "source": [
    "# Load pickled data\n",
    "import pickle\n",
    "import numpy as np\n",
    "import matplotlib.pyplot as plt\n",
    "import random\n",
    "from sklearn.utils import shuffle\n",
    "import tensorflow as tf\n",
    "import cv2\n",
    "import pandas as pd\n",
    "# Visualizations will be shown in the notebook.\n",
    "%matplotlib inline\n",
    "\n",
    "# TODO: Fill this in based on where you saved the training and testing data\n",
    "\n",
    "training_file = \"data/train.p\"\n",
    "validation_file= \"data/valid.p\"\n",
    "testing_file = \"data/test.p\"\n",
    "\n",
    "with open(training_file, mode='rb') as f:\n",
    "    train = pickle.load(f)\n",
    "with open(validation_file, mode='rb') as f:\n",
    "    valid = pickle.load(f)\n",
    "with open(testing_file, mode='rb') as f:\n",
    "    test = pickle.load(f)\n",
    "    \n",
    "X_train, y_train = train['features'], train['labels']\n",
    "X_validation, y_validation = valid['features'], valid['labels']\n",
    "X_test, y_test = test['features'], test['labels']"
   ]
  },
  {
   "cell_type": "markdown",
   "metadata": {},
   "source": [
    "---\n",
    "\n",
    "## Step 1: Dataset Summary & Exploration\n",
    "\n",
    "The pickled data is a dictionary with 4 key/value pairs:\n",
    "\n",
    "- `'features'` is a 4D array containing raw pixel data of the traffic sign images, (num examples, width, height, channels).\n",
    "- `'labels'` is a 1D array containing the label/class id of the traffic sign. The file `signnames.csv` contains id -> name mappings for each id.\n",
    "- `'sizes'` is a list containing tuples, (width, height) representing the original width and height the image.\n",
    "- `'coords'` is a list containing tuples, (x1, y1, x2, y2) representing coordinates of a bounding box around the sign in the image. **THESE COORDINATES ASSUME THE ORIGINAL IMAGE. THE PICKLED DATA CONTAINS RESIZED VERSIONS (32 by 32) OF THESE IMAGES**\n",
    "\n",
    "Complete the basic data summary below. Use python, numpy and/or pandas methods to calculate the data summary rather than hard coding the results. For example, the [pandas shape method](http://pandas.pydata.org/pandas-docs/stable/generated/pandas.DataFrame.shape.html) might be useful for calculating some of the summary results. "
   ]
  },
  {
   "cell_type": "markdown",
   "metadata": {},
   "source": [
    "### Provide a Basic Summary of the Data Set Using Python, Numpy and/or Pandas"
   ]
  },
  {
   "cell_type": "code",
   "execution_count": 59,
   "metadata": {},
   "outputs": [
    {
     "name": "stdout",
     "output_type": "stream",
     "text": [
      "Number of training examples = 34799\n",
      "Number of testing examples = 12630\n",
      "Image data shape = (34799, 32, 32, 3)\n",
      "Number of classes = 43\n",
      "Number of validation = 4410\n"
     ]
    }
   ],
   "source": [
    "### Replace each question mark with the appropriate value. \n",
    "### Use python, pandas or numpy methods rather than hard coding the results\n",
    "\n",
    "# TODO: Number of training examples\n",
    "n_train = len(X_train)\n",
    "\n",
    "# TODO: Number of validation examples\n",
    "n_validation = len(X_validation)\n",
    "\n",
    "# TODO: Number of testing examples.\n",
    "n_test = len(X_test)\n",
    "\n",
    "# TODO: What's the shape of an traffic sign image?\n",
    "image_shape = X_train.shape\n",
    "\n",
    "# TODO: How many unique classes/labels there are in the dataset.\n",
    "flag_classes = set(y_train)\n",
    "n_classes = (len(flag_classes))\n",
    "\n",
    "n_validation = len(y_validation)\n",
    "\n",
    "print(\"Number of training examples =\", n_train)\n",
    "print(\"Number of testing examples =\", n_test)\n",
    "print(\"Image data shape =\", image_shape)\n",
    "print(\"Number of classes =\", n_classes)\n",
    "print(\"Number of validation =\", n_validation)"
   ]
  },
  {
   "cell_type": "markdown",
   "metadata": {},
   "source": [
    "### Include an exploratory visualization of the dataset"
   ]
  },
  {
   "cell_type": "markdown",
   "metadata": {},
   "source": [
    "Visualize the German Traffic Signs Dataset using the pickled file(s). This is open ended, suggestions include: plotting traffic sign images, plotting the count of each sign, etc. \n",
    "\n",
    "The [Matplotlib](http://matplotlib.org/) [examples](http://matplotlib.org/examples/index.html) and [gallery](http://matplotlib.org/gallery.html) pages are a great resource for doing visualizations in Python.\n",
    "\n",
    "**NOTE:** It's recommended you start with something simple first. If you wish to do more, come back to it after you've completed the rest of the sections. It can be interesting to look at the distribution of classes in the training, validation and test set. Is the distribution the same? Are there more examples of some classes than others?"
   ]
  },
  {
   "cell_type": "code",
   "execution_count": 3,
   "metadata": {},
   "outputs": [
    {
     "data": {
      "image/png": "[encoded data removed]",
      "text/plain": [
       "<matplotlib.figure.Figure at 0x7f8cdb7a9470>"
      ]
     },
     "metadata": {},
     "output_type": "display_data"
    },
    {
     "data": {
      "image/png": "[encoded data removed]",
      "text/plain": [
       "<matplotlib.figure.Figure at 0x7f8cd9207c18>"
      ]
     },
     "metadata": {},
     "output_type": "display_data"
    }
   ],
   "source": [
    "### Data exploration visualization code goes here.\n",
    "### Feel free to use as many code cells as needed.\n",
    "plt.figure(figsize=(13, 30))\n",
    "for i in range(n_classes):\n",
    "    plt.subplot(20, 4, i+1)\n",
    "    sameClass = X_train[y_train == i]\n",
    "    index = random.randint(0, len(sameClass))\n",
    "    plt.imshow(sameClass[index])\n",
    "    plt.title(i)\n",
    "plt.tight_layout()\n",
    "plt.show()\n",
    "\n",
    "#Plot number of images per class\n",
    "plt.figure(figsize=(20, 5))\n",
    "n, bins, patches = plt.hist(y_train, n_classes, histtype='bar', ec='black', alpha=0.75)\n",
    "plt.xlabel('Lable')\n",
    "plt.ylabel('Probability')\n",
    "plt.title(r'Histgram of the Tranining Class')\n",
    "plt.grid(True)\n",
    "\n",
    "plt.show()"
   ]
  },
  {
   "cell_type": "markdown",
   "metadata": {},
   "source": [
    "----\n",
    "\n",
    "## Step 2: Design and Test a Model Architecture\n",
    "\n",
    "Design and implement a deep learning model that learns to recognize traffic signs. Train and test your model on the [German Traffic Sign Dataset](http://benchmark.ini.rub.de/?section=gtsrb&subsection=dataset).\n",
    "\n",
    "The LeNet-5 implementation shown in the [classroom](https://classroom.udacity.com/nanodegrees/nd013/parts/fbf77062-5703-404e-b60c-95b78b2f3f9e/modules/6df7ae49-c61c-4bb2-a23e-6527e69209ec/lessons/601ae704-1035-4287-8b11-e2c2716217ad/concepts/d4aca031-508f-4e0b-b493-e7b706120f81) at the end of the CNN lesson is a solid starting point. You'll have to change the number of classes and possibly the preprocessing, but aside from that it's plug and play! \n",
    "\n",
    "With the LeNet-5 solution from the lecture, you should expect a validation set accuracy of about 0.89. To meet specifications, the validation set accuracy will need to be at least 0.93. It is possible to get an even higher accuracy, but 0.93 is the minimum for a successful project submission. \n",
    "\n",
    "There are various aspects to consider when thinking about this problem:\n",
    "\n",
    "- Neural network architecture (is the network over or underfitting?)\n",
    "- Play around preprocessing techniques (normalization, rgb to grayscale, etc)\n",
    "- Number of examples per label (some have more than others).\n",
    "- Generate fake data.\n",
    "\n",
    "Here is an example of a [published baseline model on this problem](http://yann.lecun.com/exdb/publis/pdf/sermanet-ijcnn-11.pdf). It's not required to be familiar with the approach used in the paper but, it's good practice to try to read papers like these."
   ]
  },
  {
   "cell_type": "markdown",
   "metadata": {},
   "source": [
    "**Check Pointing**"
   ]
  },
  {
   "cell_type": "markdown",
   "metadata": {},
   "source": [
    "### Pre-process the Data Set (normalization, grayscale, etc.)"
   ]
  },
  {
   "cell_type": "markdown",
   "metadata": {},
   "source": [
    "Minimally, the image data should be normalized so that the data has mean zero and equal variance. For image data, `(pixel - 128)/ 128` is a quick way to approximately normalize the data and can be used in this project. \n",
    "\n",
    "Other pre-processing steps are optional. You can try different techniques to see if it improves performance. \n",
    "\n",
    "Use the code cell (or multiple code cells, if necessary) to implement the first step of your project."
   ]
  },
  {
   "cell_type": "code",
   "execution_count": 34,
   "metadata": {
    "collapsed": true
   },
   "outputs": [],
   "source": [
    "import cv2\n",
    "img_size = 32\n",
    "\n",
    "def sharpen_img(img):\n",
    "    gb = cv2.GaussianBlur(img, (5,5), 20.0)\n",
    "    return cv2.addWeighted(img, 2, gb, -1, 0)\n",
    "\n",
    "def transform_img(img_in):\n",
    "    img_in = img_in.copy()\n",
    "    img_out= sharpen_img(img_in)\n",
    "    img_out = cv2.cvtColor(img_in, cv2.COLOR_RGB2YUV)\n",
    "    img_out[:,:,0] = cv2.equalizeHist(img_out[:,:,0])\n",
    "    return img_out[:,:,0]\n",
    "\n",
    "def random_rotate_img(img):\n",
    "    c_x,c_y = int(img.shape[0]/2), int(img.shape[1]/2)\n",
    "    ang = 30.0*np.random.rand()-15\n",
    "    Mat = cv2.getRotationMatrix2D((c_x, c_y), ang, 1.0)\n",
    "    return cv2.warpAffine(img, Mat, img.shape[:2])\n",
    "\n",
    "def random_scale_img(img):\n",
    "    img2=img.copy()\n",
    "    sc_y=0.4*np.random.rand()+1.0\n",
    "    img2=cv2.resize(img, None, fx=1, fy=sc_y, interpolation = cv2.INTER_CUBIC)\n",
    "    dy = int((img2.shape[1]-img.shape[0])/2)\n",
    "    end = img.shape[1]-dy\n",
    "    img2 = img2[dy:end,:,:]\n",
    "    assert img2.shape[0] == img_size\n",
    "    return img2\n",
    "def image_translate(img):\n",
    "    x = img.shape[0]\n",
    "    y = img.shape[1]\n",
    "\n",
    "    x_shift = np.random.uniform(-0.3 * x, 0.3 * x)\n",
    "    y_shift = np.random.uniform(-0.3 * y, 0.3 * y)\n",
    "\n",
    "    shift_matrix = np.float32([[1, 0, x_shift], [0, 1, y_shift]])\n",
    "    shift_img = cv2.warpAffine(img, shift_matrix, (x, y))\n",
    "\n",
    "    return shift_img\n",
    "def image_rotate(img):\n",
    "    row, col, channel = img.shape\n",
    "\n",
    "    angle = np.random.uniform(-60, 60)\n",
    "    rotation_point = (row / 2, col / 2)\n",
    "    rotation_matrix = cv2.getRotationMatrix2D(rotation_point, angle, 1)\n",
    "\n",
    "    rotated_img = cv2.warpAffine(img, rotation_matrix, (col, row))\n",
    "    return rotated_img\n",
    "\n",
    "def image_shear(img):\n",
    "    x, y, channel = img.shape\n",
    "\n",
    "    shear = np.random.randint(5,15)\n",
    "    pts1 = np.array([[5, 5], [20, 5], [5, 20]]).astype('float32')\n",
    "    pt1 = 5 + shear * np.random.uniform() - shear / 2\n",
    "    pt2 = 20 + shear * np.random.uniform() - shear / 2\n",
    "    pts2 = np.float32([[pt1, 5], [pt2, pt1], [5, pt2]])\n",
    "\n",
    "    M = cv2.getAffineTransform(pts1, pts2)\n",
    "    result = cv2.warpAffine(img, M, (y, x))\n",
    "    return result\n",
    "\n",
    "def image_blur(img):\n",
    "    r_int = np.random.randint(0, 2)\n",
    "    odd_size = 2 * r_int + 1\n",
    "    return cv2.GaussianBlur(img, (odd_size, odd_size), 0)\n",
    "\n",
    "def image_gamma(img):\n",
    "    gamma = np.random.uniform(0.3, 1.5)\n",
    "    invGamma = 1.0 / gamma\n",
    "    table = np.array([((i / 255.0) ** invGamma) * 255 for i in np.arange(0, 256)]).astype(\"uint8\")\n",
    "    new_img = cv2.LUT(img, table)\n",
    "    return new_img\n",
    "\n",
    "\n",
    "def augment_img(img):\n",
    "    img = img.copy()\n",
    "    randCom = np.random.randint(0, 2, [1, 5]).astype('bool')[0]\n",
    "    if randCom[0]:\n",
    "        img = image_translate(img)\n",
    "    if randCom[1]:\n",
    "        img = image_rotate(img)\n",
    "    if randCom[2]:\n",
    "        img = image_shear(img)\n",
    "    if randCom[3]:\n",
    "        img = image_blur(img)\n",
    "    if randCom[4]:\n",
    "        img = image_gamma(img)    \n",
    "        \n",
    "    return transform_img(img)"
   ]
  },
  {
   "cell_type": "code",
   "execution_count": 71,
   "metadata": {
    "scrolled": true
   },
   "outputs": [
    {
     "name": "stderr",
     "output_type": "stream",
     "text": [
      "100%|██████████| 4410/4410 [00:00<00:00, 14151.21it/s]\n",
      "100%|██████████| 12630/12630 [00:00<00:00, 14569.58it/s]\n"
     ]
    }
   ],
   "source": [
    "\n",
    "\n",
    "# Transform all images and augment training datfa\n",
    "X_train_transf = list()\n",
    "y_train_transf = list()\n",
    "X_test_transf = list()\n",
    "X_valid_transf = list()\n",
    "\n",
    "# make the validation imge\n",
    "for ii in tqdm(range(X_validation.shape[0])):\n",
    "    img = X_validation[ii]\n",
    "    img = transform_img(img)\n",
    "    img.shape = (1,) + img.shape + (1,)\n",
    "    X_valid_transf.append(img)\n",
    "\n",
    "\n",
    "# make the test image\n",
    "for ii in tqdm(range(X_test.shape[0])):\n",
    "    img = X_test[ii]\n",
    "    img = transform_img(img)\n",
    "    img.shape = (1,) + img.shape + (1,)\n",
    "    X_test_transf.append(img)\n",
    "\n",
    "X_test_transf = np.concatenate(X_test_transf,axis=0)\n",
    "\n",
    "X_valid_transf = np.concatenate(X_valid_transf,axis=0)\n"
   ]
  },
  {
   "cell_type": "code",
   "execution_count": 72,
   "metadata": {},
   "outputs": [
    {
     "name": "stderr",
     "output_type": "stream",
     "text": [
      "100%|██████████| 34799/34799 [09:20<00:00, 62.09it/s]\n"
     ]
    }
   ],
   "source": [
    "# make the train image\n",
    "for ii in tqdm(range(X_train.shape[0])):\n",
    "    img = X_train[ii]\n",
    "    label = y_train[ii]\n",
    "    imgout = transform_img(img)\n",
    "    imgout.shape = (1,) + imgout.shape + (1,)\n",
    "    X_train_transf.append(imgout)\n",
    "    y_train_transf.append(label)\n",
    "    for j in range(20):\n",
    "        imgout = augment_img(img)\n",
    "        imgout.shape = (1,) + imgout.shape + (1,)\n",
    "        X_train_transf.append(imgout)\n",
    "        y_train_transf.append(label)\n",
    "X_train_transf = np.concatenate(X_train_transf,axis=0)\n",
    "y_train_transf = np.array(y_train_transf)"
   ]
  },
  {
   "cell_type": "code",
   "execution_count": 36,
   "metadata": {},
   "outputs": [
    {
     "name": "stdout",
     "output_type": "stream",
     "text": [
      "Caching the data point to the pickle file ---->\n",
      "Checkpointing 1 data saved to checkpointing1_file\n"
     ]
    }
   ],
   "source": [
    "## Check pointing\n",
    "\n",
    "import pickle\n",
    "import os\n",
    "must1 = True\n",
    "checkpointing1_file = 'data/checkpointing1_file'\n",
    "checkpointing1 = {}\n",
    "checkpointing1['X_test_transf'] = X_test_transf\n",
    "checkpointing1['y_train'] = y_train\n",
    "checkpointing1['X_train_transf'] = X_train_transf\n",
    "checkpointing1['y_test'] = y_test\n",
    "checkpointing1['X_valid_transf'] = X_valid_transf\n",
    "checkpointing1['X_validation'] = y_validation\n",
    "checkpointing1['training_file'] = training_file\n",
    "checkpointing1['validation_file'] = validation_file\n",
    "checkpointing1['testing_file'] = testing_file\n",
    "\n",
    "if not os.path.isfile(checkpointing1_file) or must1:\n",
    "    print(\"Caching the data point to the pickle file ---->\")\n",
    "    try:\n",
    "        with open(checkpointing1_file, 'wb') as checkP1_File:\n",
    "            pickle.dump(checkpointing1, checkP1_File,pickle.HIGHEST_PROTOCOL)\n",
    "    except Exception as error:\n",
    "        print(\"Somthing is wrong during the check pointing saving\")\n",
    "        raise\n",
    "    print(\"Checkpointing 1 data saved to checkpointing1_file\")\n",
    "else: \n",
    "    print(\"checkpointing1_file is already create ---> you can run the next code block the restore the data\")\n",
    "    \n",
    "    \n"
   ]
  },
  {
   "cell_type": "code",
   "execution_count": 53,
   "metadata": {
    "collapsed": true
   },
   "outputs": [],
   "source": [
    "## Load the Checkpointing 1 data\n",
    "import pickle\n",
    "checkpointing1_file = 'data/checkpointing1_file'\n",
    "with open(checkpointing1_file, 'rb') as checkP1_File:\n",
    "    pickle_data = pickle.load(checkP1_File)\n",
    "    for key in pickle_data:\n",
    "        exec(key + \"= pickle_data['\" + str(key) + \"']\")\n",
    "    del pickle_data"
   ]
  },
  {
   "cell_type": "markdown",
   "metadata": {},
   "source": [
    "### Model Architecture"
   ]
  },
  {
   "cell_type": "code",
   "execution_count": 37,
   "metadata": {
    "collapsed": true
   },
   "outputs": [],
   "source": [
    "### Define your architecture here.\n",
    "### Feel free to use as many code cells as needed.\n",
    "import tensorflow as tf\n",
    "from tensorflow.contrib.layers import flatten\n",
    "\n",
    "\n",
    "def LeNet(x):    \n",
    "    # Arguments used for tf.truncated_normal, randomly defines variables for the weights and biases for each layer\n",
    "    mu = 0\n",
    "    sigma = 0.01\n",
    "    \n",
    "    # SOLUTION: Layer 1: Convolutional. Input = 32x32x1. Output = 28 * 28 * 6.\n",
    "    conv1_W = tf.Variable(tf.truncated_normal(shape=(5, 5, 1 , 6), mean = mu, stddev = sigma))\n",
    "    conv1_b = tf.Variable(tf.zeros(6))\n",
    "    conv1   = tf.nn.conv2d(x, conv1_W, strides=[1, 1, 1, 1], padding='VALID') + conv1_b\n",
    "\n",
    "    # SOLUTION: Activation.\n",
    "    conv1 = tf.nn.relu(conv1)\n",
    "\n",
    "    # SOLUTION: Pooling. Input = 28x28x6. Output = 14x14x6.\n",
    "    conv1 = tf.nn.max_pool(conv1, ksize=[1, 2, 2, 1], strides=[1, 2, 2, 1], padding='VALID')\n",
    "\n",
    "    # SOLUTION: Layer 2: Convolutional. Output = 10x10x16.\n",
    "    conv2_W = tf.Variable(tf.truncated_normal(shape=(5, 5, 6, 16), mean = mu, stddev = sigma))\n",
    "    conv2_b = tf.Variable(tf.zeros(16))\n",
    "    conv2   = tf.nn.conv2d(conv1, conv2_W, strides=[1, 1, 1, 1], padding='VALID') + conv2_b\n",
    "    \n",
    "    # SOLUTION: Activation.\n",
    "    conv2 = tf.nn.relu(conv2)\n",
    "\n",
    "    # SOLUTION: Pooling. Input = 10x10x16. Output = 5x5x16.\n",
    "    conv2 = tf.nn.max_pool(conv2, ksize=[1, 2, 2, 1], strides=[1, 2, 2, 1], padding='VALID')\n",
    "\n",
    "    # SOLUTION: Flatten. Input = 5x5x16. Output = 400.\n",
    "    fc0   = flatten(conv2)\n",
    "    \n",
    "    # SOLUTION: Layer 3: Fully Connected. Input = 400. Output = 120.\n",
    "    fc1_W = tf.Variable(tf.truncated_normal(shape=(400, 120), mean = mu, stddev = sigma))\n",
    "    fc1_b = tf.Variable(tf.zeros(120))\n",
    "    fc1   = tf.matmul(fc0, fc1_W) + fc1_b\n",
    "    \n",
    "    # SOLUTION: Activation.\n",
    "    fc1    = tf.nn.relu(fc1)\n",
    "    \n",
    "    # drop out layer\n",
    "    dr1 = tf.nn.dropout(fc1, keep_prob) \n",
    "\n",
    "    # SOLUTION: Layer 4: Fully Connected. Input = 120. Output = 84.\n",
    "    fc2_W  = tf.Variable(tf.truncated_normal(shape=(120, 84), mean = mu, stddev = sigma))\n",
    "    fc2_b  = tf.Variable(tf.zeros(84))\n",
    "    fc2    = tf.matmul(dr1, fc2_W) + fc2_b\n",
    "    \n",
    "    # SOLUTION: Activation.\n",
    "    fc2    = tf.nn.relu(fc2)\n",
    "    \n",
    "    # drop out layer\n",
    "    dr2 = tf.nn.dropout(fc2, keep_prob) \n",
    "\n",
    "    # SOLUTION: Layer 5: Fully Connected. Input = 84. Output = 43.\n",
    "    fc3_W  = tf.Variable(tf.truncated_normal(shape=(84, 43), mean = mu, stddev = sigma))\n",
    "    fc3_b  = tf.Variable(tf.zeros(43))\n",
    "    logits = tf.matmul(dr2, fc3_W) + fc3_b\n",
    "    \n",
    "    return logits"
   ]
  },
  {
   "cell_type": "markdown",
   "metadata": {},
   "source": [
    "## Architecture\n",
    "#### Layer 1: \n",
    "Convolutional. The output shape should be 28x28x6.    \n",
    "Activation: RELU    \n",
    "Pooling: The output shape should be 14x14x6.    \n",
    "\n",
    "#### Layer 2:\n",
    "Convolutional: The output shape should be 10x10x16.    \n",
    "Activation: RELU    \n",
    "Pooling: The output shape should be 5x5x16.        \n",
    "Flatten: Flatten the output shape of the final pooling layer such that it's 1D instead of 3D. \n",
    "\n",
    "#### Layer 3:\n",
    "Fully Connected. This should have 120 outputs.\n",
    "Activation:RELU\n",
    "\n",
    "#### Layer 4:\n",
    "Fully Connected. This should have 84 outputs.\n",
    "Activation: RELU\n",
    "\n",
    "#### Layer 5:\n",
    "Fully Connected (Logits). This should have 43 outputs."
   ]
  },
  {
   "cell_type": "markdown",
   "metadata": {},
   "source": [
    "### Train, Validate and Test the Model"
   ]
  },
  {
   "cell_type": "markdown",
   "metadata": {},
   "source": [
    "A validation set can be used to assess how well the model is performing. A low accuracy on the training and validation\n",
    "sets imply underfitting. A high accuracy on the training set but low accuracy on the validation set implies overfitting."
   ]
  },
  {
   "cell_type": "markdown",
   "metadata": {},
   "source": [
    "---\n",
    "\n",
    "## Step 3: Test a Model on New Images\n",
    "\n",
    "To give yourself more insight into how your model is working, download at least five pictures of German traffic signs from the web and use your model to predict the traffic sign type.\n",
    "\n",
    "You may find `signnames.csv` useful as it contains mappings from the class id (integer) to the actual sign name."
   ]
  },
  {
   "cell_type": "markdown",
   "metadata": {},
   "source": [
    "### Load and Output the Images"
   ]
  },
  {
   "cell_type": "code",
   "execution_count": 75,
   "metadata": {
    "collapsed": true
   },
   "outputs": [],
   "source": [
    "### Load the images and plot them here.\n",
    "### Feel free to use as many code cells as needed.\n",
    "x = tf.placeholder(tf.float32, [None, 32, 32, 1])\n",
    "y = tf.placeholder(tf.int32, [None])\n",
    "keep_prob = tf.placeholder(tf.float32)\n",
    "one_hot_y = tf.one_hot(y, 43)\n",
    "\n",
    "rate = 0.0001\n",
    "EPOCHS = 200\n",
    "BATCH_SIZE = 128\n",
    "\n",
    "logits = LeNet(x)\n",
    "cross_entropy = tf.nn.softmax_cross_entropy_with_logits(logits, one_hot_y)\n",
    "loss_operation = tf.reduce_mean(cross_entropy)\n",
    "optimizer = tf.train.AdamOptimizer(learning_rate = rate)\n",
    "training_operation = optimizer.minimize(loss_operation)\n",
    "predict_operation = tf.argmax(logits, 1)\n",
    "predict_proba_operation = tf.nn.softmax(logits=logits)"
   ]
  },
  {
   "cell_type": "markdown",
   "metadata": {},
   "source": [
    "### Predict the Sign Type for Each Image"
   ]
  },
  {
   "cell_type": "code",
   "execution_count": 76,
   "metadata": {
    "collapsed": true
   },
   "outputs": [],
   "source": [
    "### Run the predictions here and use the model to output the prediction for each image.\n",
    "### Make sure to pre-process the images with the same pre-processing pipeline used earlier.\n",
    "### Feel free to use as many code cells as needed.\n",
    "correct_prediction = tf.equal(tf.argmax(logits, 1), tf.argmax(one_hot_y, 1))\n",
    "accuracy_operation = tf.reduce_mean(tf.cast(correct_prediction, tf.float32))\n",
    "saver = tf.train.Saver()\n",
    "\n",
    "def evaluate(X_data, y_data):\n",
    "    num_examples = len(X_data)\n",
    "    total_accuracy = 0\n",
    "    sess = tf.get_default_session()\n",
    "    for offset in range(0, num_examples, BATCH_SIZE):\n",
    "        batch_x, batch_y = X_data[offset:offset+BATCH_SIZE], y_data[offset:offset+BATCH_SIZE]\n",
    "        accuracy = sess.run(accuracy_operation, feed_dict={x: batch_x, y: batch_y, keep_prob: 1.0})\n",
    "        total_accuracy += (accuracy * len(batch_x))\n",
    "    return total_accuracy / num_examples\n",
    "def predict(X_data):\n",
    "    num_examples = len(X_data)\n",
    "    sess = tf.get_default_session()\n",
    "    predicted_proba = sess.run(predict_proba_operation, feed_dict={x: X_data, keep_prob: 1.0})\n",
    "    return predicted_proba"
   ]
  },
  {
   "cell_type": "code",
   "execution_count": 77,
   "metadata": {
    "scrolled": false
   },
   "outputs": [
    {
     "name": "stdout",
     "output_type": "stream",
     "text": [
      "Training...\n",
      "\n",
      "EPOCH 1\n"
     ]
    },
    {
     "name": "stderr",
     "output_type": "stream",
     "text": [
      "100%|██████████| 5710/5710 [01:24<00:00, 67.82it/s]\n"
     ]
    },
    {
     "name": "stdout",
     "output_type": "stream",
     "text": [
      "Validation Accuracy           = 0.532\n",
      "Accuracy Model On Test Images = 0.537\n",
      "Model saved\n",
      "\n",
      "EPOCH 2\n"
     ]
    },
    {
     "name": "stderr",
     "output_type": "stream",
     "text": [
      "100%|██████████| 5710/5710 [01:32<00:00, 61.89it/s]\n"
     ]
    },
    {
     "name": "stdout",
     "output_type": "stream",
     "text": [
      "Validation Accuracy           = 0.733\n",
      "Accuracy Model On Test Images = 0.731\n",
      "Model saved\n",
      "\n",
      "EPOCH 3\n"
     ]
    },
    {
     "name": "stderr",
     "output_type": "stream",
     "text": [
      "100%|██████████| 5710/5710 [01:16<00:00, 74.51it/s]\n"
     ]
    },
    {
     "name": "stdout",
     "output_type": "stream",
     "text": [
      "Validation Accuracy           = 0.796\n",
      "Accuracy Model On Test Images = 0.776\n",
      "Model saved\n",
      "\n",
      "EPOCH 4\n"
     ]
    },
    {
     "name": "stderr",
     "output_type": "stream",
     "text": [
      "100%|██████████| 5710/5710 [01:15<00:00, 75.23it/s]\n"
     ]
    },
    {
     "name": "stdout",
     "output_type": "stream",
     "text": [
      "Validation Accuracy           = 0.824\n",
      "Accuracy Model On Test Images = 0.807\n",
      "Model saved\n",
      "\n",
      "EPOCH 5\n"
     ]
    },
    {
     "name": "stderr",
     "output_type": "stream",
     "text": [
      "100%|██████████| 5710/5710 [01:16<00:00, 74.66it/s]\n"
     ]
    },
    {
     "name": "stdout",
     "output_type": "stream",
     "text": [
      "Validation Accuracy           = 0.848\n",
      "Accuracy Model On Test Images = 0.834\n",
      "Model saved\n",
      "\n",
      "EPOCH 6\n"
     ]
    },
    {
     "name": "stderr",
     "output_type": "stream",
     "text": [
      "100%|██████████| 5710/5710 [01:16<00:00, 75.02it/s]\n"
     ]
    },
    {
     "name": "stdout",
     "output_type": "stream",
     "text": [
      "Validation Accuracy           = 0.871\n",
      "Accuracy Model On Test Images = 0.849\n",
      "Model saved\n",
      "\n",
      "EPOCH 7\n"
     ]
    },
    {
     "name": "stderr",
     "output_type": "stream",
     "text": [
      "100%|██████████| 5710/5710 [01:16<00:00, 74.40it/s]\n"
     ]
    },
    {
     "name": "stdout",
     "output_type": "stream",
     "text": [
      "Validation Accuracy           = 0.877\n",
      "Accuracy Model On Test Images = 0.864\n",
      "Model saved\n",
      "\n",
      "EPOCH 8\n"
     ]
    },
    {
     "name": "stderr",
     "output_type": "stream",
     "text": [
      "100%|██████████| 5710/5710 [01:16<00:00, 75.09it/s]\n"
     ]
    },
    {
     "name": "stdout",
     "output_type": "stream",
     "text": [
      "Validation Accuracy           = 0.882\n",
      "Accuracy Model On Test Images = 0.866\n",
      "Model saved\n",
      "\n",
      "EPOCH 9\n"
     ]
    },
    {
     "name": "stderr",
     "output_type": "stream",
     "text": [
      "100%|██████████| 5710/5710 [01:16<00:00, 74.62it/s]\n"
     ]
    },
    {
     "name": "stdout",
     "output_type": "stream",
     "text": [
      "Validation Accuracy           = 0.895\n",
      "Accuracy Model On Test Images = 0.879\n",
      "Model saved\n",
      "\n",
      "EPOCH 10\n"
     ]
    },
    {
     "name": "stderr",
     "output_type": "stream",
     "text": [
      "100%|██████████| 5710/5710 [01:16<00:00, 75.05it/s]\n"
     ]
    },
    {
     "name": "stdout",
     "output_type": "stream",
     "text": [
      "Validation Accuracy           = 0.898\n",
      "Accuracy Model On Test Images = 0.874\n",
      "Model saved\n",
      "\n",
      "EPOCH 11\n"
     ]
    },
    {
     "name": "stderr",
     "output_type": "stream",
     "text": [
      "100%|██████████| 5710/5710 [01:16<00:00, 74.62it/s]\n"
     ]
    },
    {
     "name": "stdout",
     "output_type": "stream",
     "text": [
      "Validation Accuracy           = 0.912\n",
      "Accuracy Model On Test Images = 0.889\n",
      "Model saved\n",
      "\n",
      "EPOCH 12\n"
     ]
    },
    {
     "name": "stderr",
     "output_type": "stream",
     "text": [
      "100%|██████████| 5710/5710 [01:15<00:00, 75.16it/s]\n"
     ]
    },
    {
     "name": "stdout",
     "output_type": "stream",
     "text": [
      "Validation Accuracy           = 0.915\n",
      "Accuracy Model On Test Images = 0.889\n",
      "Model saved\n",
      "\n",
      "EPOCH 13\n"
     ]
    },
    {
     "name": "stderr",
     "output_type": "stream",
     "text": [
      "100%|██████████| 5710/5710 [01:16<00:00, 74.57it/s]\n"
     ]
    },
    {
     "name": "stdout",
     "output_type": "stream",
     "text": [
      "Validation Accuracy           = 0.920\n",
      "Accuracy Model On Test Images = 0.895\n",
      "Model saved\n",
      "\n",
      "EPOCH 14\n"
     ]
    },
    {
     "name": "stderr",
     "output_type": "stream",
     "text": [
      "100%|██████████| 5710/5710 [01:15<00:00, 75.16it/s]\n"
     ]
    },
    {
     "name": "stdout",
     "output_type": "stream",
     "text": [
      "Validation Accuracy           = 0.926\n",
      "Accuracy Model On Test Images = 0.898\n",
      "Model saved\n",
      "\n",
      "EPOCH 15\n"
     ]
    },
    {
     "name": "stderr",
     "output_type": "stream",
     "text": [
      "100%|██████████| 5710/5710 [01:16<00:00, 74.60it/s]\n"
     ]
    },
    {
     "name": "stdout",
     "output_type": "stream",
     "text": [
      "Validation Accuracy           = 0.920\n",
      "Accuracy Model On Test Images = 0.891\n",
      "\n",
      "EPOCH 16\n"
     ]
    },
    {
     "name": "stderr",
     "output_type": "stream",
     "text": [
      "100%|██████████| 5710/5710 [01:15<00:00, 75.18it/s]\n"
     ]
    },
    {
     "name": "stdout",
     "output_type": "stream",
     "text": [
      "Validation Accuracy           = 0.930\n",
      "Accuracy Model On Test Images = 0.902\n",
      "Model saved\n",
      "\n",
      "EPOCH 17\n"
     ]
    },
    {
     "name": "stderr",
     "output_type": "stream",
     "text": [
      "100%|██████████| 5710/5710 [01:16<00:00, 74.56it/s]\n"
     ]
    },
    {
     "name": "stdout",
     "output_type": "stream",
     "text": [
      "Validation Accuracy           = 0.926\n",
      "Accuracy Model On Test Images = 0.904\n",
      "\n",
      "EPOCH 18\n"
     ]
    },
    {
     "name": "stderr",
     "output_type": "stream",
     "text": [
      "100%|██████████| 5710/5710 [01:16<00:00, 75.07it/s]\n"
     ]
    },
    {
     "name": "stdout",
     "output_type": "stream",
     "text": [
      "Validation Accuracy           = 0.932\n",
      "Accuracy Model On Test Images = 0.906\n",
      "Model saved\n",
      "\n",
      "EPOCH 19\n"
     ]
    },
    {
     "name": "stderr",
     "output_type": "stream",
     "text": [
      "100%|██████████| 5710/5710 [01:16<00:00, 74.58it/s]\n"
     ]
    },
    {
     "name": "stdout",
     "output_type": "stream",
     "text": [
      "Validation Accuracy           = 0.929\n",
      "Accuracy Model On Test Images = 0.903\n",
      "\n",
      "EPOCH 20\n"
     ]
    },
    {
     "name": "stderr",
     "output_type": "stream",
     "text": [
      "100%|██████████| 5710/5710 [01:16<00:00, 74.96it/s]\n"
     ]
    },
    {
     "name": "stdout",
     "output_type": "stream",
     "text": [
      "Validation Accuracy           = 0.931\n",
      "Accuracy Model On Test Images = 0.899\n",
      "\n",
      "EPOCH 21\n"
     ]
    },
    {
     "name": "stderr",
     "output_type": "stream",
     "text": [
      "100%|██████████| 5710/5710 [01:16<00:00, 74.61it/s]\n"
     ]
    },
    {
     "name": "stdout",
     "output_type": "stream",
     "text": [
      "Validation Accuracy           = 0.931\n",
      "Accuracy Model On Test Images = 0.909\n",
      "\n",
      "EPOCH 22\n"
     ]
    },
    {
     "name": "stderr",
     "output_type": "stream",
     "text": [
      "100%|██████████| 5710/5710 [01:16<00:00, 75.12it/s]\n"
     ]
    },
    {
     "name": "stdout",
     "output_type": "stream",
     "text": [
      "Validation Accuracy           = 0.932\n",
      "Accuracy Model On Test Images = 0.908\n",
      "\n",
      "EPOCH 23\n"
     ]
    },
    {
     "name": "stderr",
     "output_type": "stream",
     "text": [
      "100%|██████████| 5710/5710 [01:16<00:00, 74.57it/s]\n"
     ]
    },
    {
     "name": "stdout",
     "output_type": "stream",
     "text": [
      "Validation Accuracy           = 0.938\n",
      "Accuracy Model On Test Images = 0.911\n",
      "Model saved\n",
      "\n",
      "EPOCH 24\n"
     ]
    },
    {
     "name": "stderr",
     "output_type": "stream",
     "text": [
      "100%|██████████| 5710/5710 [01:16<00:00, 75.05it/s]\n"
     ]
    },
    {
     "name": "stdout",
     "output_type": "stream",
     "text": [
      "Validation Accuracy           = 0.929\n",
      "Accuracy Model On Test Images = 0.906\n",
      "\n",
      "EPOCH 25\n"
     ]
    },
    {
     "name": "stderr",
     "output_type": "stream",
     "text": [
      "100%|██████████| 5710/5710 [01:16<00:00, 74.61it/s]\n"
     ]
    },
    {
     "name": "stdout",
     "output_type": "stream",
     "text": [
      "Validation Accuracy           = 0.934\n",
      "Accuracy Model On Test Images = 0.912\n",
      "\n",
      "EPOCH 26\n"
     ]
    },
    {
     "name": "stderr",
     "output_type": "stream",
     "text": [
      "100%|██████████| 5710/5710 [01:16<00:00, 74.98it/s]\n"
     ]
    },
    {
     "name": "stdout",
     "output_type": "stream",
     "text": [
      "Validation Accuracy           = 0.940\n",
      "Accuracy Model On Test Images = 0.912\n",
      "Model saved\n",
      "\n",
      "EPOCH 27\n"
     ]
    },
    {
     "name": "stderr",
     "output_type": "stream",
     "text": [
      "100%|██████████| 5710/5710 [01:16<00:00, 76.26it/s]\n"
     ]
    },
    {
     "name": "stdout",
     "output_type": "stream",
     "text": [
      "Validation Accuracy           = 0.936\n",
      "Accuracy Model On Test Images = 0.916\n",
      "\n",
      "EPOCH 28\n"
     ]
    },
    {
     "name": "stderr",
     "output_type": "stream",
     "text": [
      "100%|██████████| 5710/5710 [01:16<00:00, 75.04it/s]\n"
     ]
    },
    {
     "name": "stdout",
     "output_type": "stream",
     "text": [
      "Validation Accuracy           = 0.940\n",
      "Accuracy Model On Test Images = 0.914\n",
      "Model saved\n",
      "\n",
      "EPOCH 29\n"
     ]
    },
    {
     "name": "stderr",
     "output_type": "stream",
     "text": [
      "100%|██████████| 5710/5710 [01:16<00:00, 74.50it/s]\n"
     ]
    },
    {
     "name": "stdout",
     "output_type": "stream",
     "text": [
      "Validation Accuracy           = 0.939\n",
      "Accuracy Model On Test Images = 0.915\n",
      "\n",
      "EPOCH 30\n"
     ]
    },
    {
     "name": "stderr",
     "output_type": "stream",
     "text": [
      "100%|██████████| 5710/5710 [01:15<00:00, 75.15it/s]\n"
     ]
    },
    {
     "name": "stdout",
     "output_type": "stream",
     "text": [
      "Validation Accuracy           = 0.942\n",
      "Accuracy Model On Test Images = 0.915\n",
      "Model saved\n",
      "\n",
      "EPOCH 31\n"
     ]
    },
    {
     "name": "stderr",
     "output_type": "stream",
     "text": [
      "100%|██████████| 5710/5710 [01:16<00:00, 74.56it/s]\n"
     ]
    },
    {
     "name": "stdout",
     "output_type": "stream",
     "text": [
      "Validation Accuracy           = 0.937\n",
      "Accuracy Model On Test Images = 0.919\n",
      "\n",
      "EPOCH 32\n"
     ]
    },
    {
     "name": "stderr",
     "output_type": "stream",
     "text": [
      "100%|██████████| 5710/5710 [01:16<00:00, 75.00it/s]\n"
     ]
    },
    {
     "name": "stdout",
     "output_type": "stream",
     "text": [
      "Validation Accuracy           = 0.938\n",
      "Accuracy Model On Test Images = 0.917\n",
      "\n",
      "EPOCH 33\n"
     ]
    },
    {
     "name": "stderr",
     "output_type": "stream",
     "text": [
      "100%|██████████| 5710/5710 [01:16<00:00, 74.59it/s]\n"
     ]
    },
    {
     "name": "stdout",
     "output_type": "stream",
     "text": [
      "Validation Accuracy           = 0.934\n",
      "Accuracy Model On Test Images = 0.912\n",
      "\n",
      "EPOCH 34\n"
     ]
    },
    {
     "name": "stderr",
     "output_type": "stream",
     "text": [
      "100%|██████████| 5710/5710 [01:16<00:00, 75.13it/s]\n"
     ]
    },
    {
     "name": "stdout",
     "output_type": "stream",
     "text": [
      "Validation Accuracy           = 0.940\n",
      "Accuracy Model On Test Images = 0.919\n",
      "\n",
      "EPOCH 35\n"
     ]
    },
    {
     "name": "stderr",
     "output_type": "stream",
     "text": [
      "100%|██████████| 5710/5710 [01:16<00:00, 74.65it/s]\n"
     ]
    },
    {
     "name": "stdout",
     "output_type": "stream",
     "text": [
      "Validation Accuracy           = 0.937\n",
      "Accuracy Model On Test Images = 0.922\n",
      "\n",
      "EPOCH 36\n"
     ]
    },
    {
     "name": "stderr",
     "output_type": "stream",
     "text": [
      "100%|██████████| 5710/5710 [01:15<00:00, 75.18it/s]\n"
     ]
    },
    {
     "name": "stdout",
     "output_type": "stream",
     "text": [
      "Validation Accuracy           = 0.943\n",
      "Accuracy Model On Test Images = 0.923\n",
      "Model saved\n",
      "\n",
      "EPOCH 37\n"
     ]
    },
    {
     "name": "stderr",
     "output_type": "stream",
     "text": [
      "100%|██████████| 5710/5710 [01:16<00:00, 74.59it/s]\n"
     ]
    },
    {
     "name": "stdout",
     "output_type": "stream",
     "text": [
      "Validation Accuracy           = 0.941\n",
      "Accuracy Model On Test Images = 0.916\n",
      "\n",
      "EPOCH 38\n"
     ]
    },
    {
     "name": "stderr",
     "output_type": "stream",
     "text": [
      "100%|██████████| 5710/5710 [01:16<00:00, 75.02it/s]\n"
     ]
    },
    {
     "name": "stdout",
     "output_type": "stream",
     "text": [
      "Validation Accuracy           = 0.942\n",
      "Accuracy Model On Test Images = 0.922\n",
      "\n",
      "EPOCH 39\n"
     ]
    },
    {
     "name": "stderr",
     "output_type": "stream",
     "text": [
      "100%|██████████| 5710/5710 [01:16<00:00, 74.70it/s]\n"
     ]
    },
    {
     "name": "stdout",
     "output_type": "stream",
     "text": [
      "Validation Accuracy           = 0.945\n",
      "Accuracy Model On Test Images = 0.918\n",
      "Model saved\n",
      "\n",
      "EPOCH 40\n"
     ]
    },
    {
     "name": "stderr",
     "output_type": "stream",
     "text": [
      "100%|██████████| 5710/5710 [01:16<00:00, 75.13it/s]\n"
     ]
    },
    {
     "name": "stdout",
     "output_type": "stream",
     "text": [
      "Validation Accuracy           = 0.942\n",
      "Accuracy Model On Test Images = 0.920\n",
      "\n",
      "EPOCH 41\n"
     ]
    },
    {
     "name": "stderr",
     "output_type": "stream",
     "text": [
      "100%|██████████| 5710/5710 [01:16<00:00, 74.60it/s]\n"
     ]
    },
    {
     "name": "stdout",
     "output_type": "stream",
     "text": [
      "Validation Accuracy           = 0.948\n",
      "Accuracy Model On Test Images = 0.924\n",
      "Model saved\n",
      "\n",
      "EPOCH 42\n"
     ]
    },
    {
     "name": "stderr",
     "output_type": "stream",
     "text": [
      "100%|██████████| 5710/5710 [01:16<00:00, 76.10it/s]\n"
     ]
    },
    {
     "name": "stdout",
     "output_type": "stream",
     "text": [
      "Validation Accuracy           = 0.941\n",
      "Accuracy Model On Test Images = 0.920\n",
      "\n",
      "EPOCH 43\n"
     ]
    },
    {
     "name": "stderr",
     "output_type": "stream",
     "text": [
      "100%|██████████| 5710/5710 [01:16<00:00, 74.64it/s]\n"
     ]
    },
    {
     "name": "stdout",
     "output_type": "stream",
     "text": [
      "Validation Accuracy           = 0.945\n",
      "Accuracy Model On Test Images = 0.921\n",
      "\n",
      "EPOCH 44\n"
     ]
    },
    {
     "name": "stderr",
     "output_type": "stream",
     "text": [
      "100%|██████████| 5710/5710 [01:16<00:00, 74.96it/s]\n"
     ]
    },
    {
     "name": "stdout",
     "output_type": "stream",
     "text": [
      "Validation Accuracy           = 0.943\n",
      "Accuracy Model On Test Images = 0.921\n",
      "\n",
      "EPOCH 45\n"
     ]
    },
    {
     "name": "stderr",
     "output_type": "stream",
     "text": [
      "100%|██████████| 5710/5710 [01:16<00:00, 74.45it/s]\n"
     ]
    },
    {
     "name": "stdout",
     "output_type": "stream",
     "text": [
      "Validation Accuracy           = 0.941\n",
      "Accuracy Model On Test Images = 0.920\n",
      "\n",
      "EPOCH 46\n"
     ]
    },
    {
     "name": "stderr",
     "output_type": "stream",
     "text": [
      "100%|██████████| 5710/5710 [01:16<00:00, 75.11it/s]\n"
     ]
    },
    {
     "name": "stdout",
     "output_type": "stream",
     "text": [
      "Validation Accuracy           = 0.948\n",
      "Accuracy Model On Test Images = 0.923\n",
      "Model saved\n",
      "\n",
      "EPOCH 47\n"
     ]
    },
    {
     "name": "stderr",
     "output_type": "stream",
     "text": [
      "100%|██████████| 5710/5710 [01:16<00:00, 74.57it/s]\n"
     ]
    },
    {
     "name": "stdout",
     "output_type": "stream",
     "text": [
      "Validation Accuracy           = 0.939\n",
      "Accuracy Model On Test Images = 0.916\n",
      "\n",
      "EPOCH 48\n"
     ]
    },
    {
     "name": "stderr",
     "output_type": "stream",
     "text": [
      "100%|██████████| 5710/5710 [01:16<00:00, 75.12it/s]\n"
     ]
    },
    {
     "name": "stdout",
     "output_type": "stream",
     "text": [
      "Validation Accuracy           = 0.941\n",
      "Accuracy Model On Test Images = 0.918\n",
      "\n",
      "EPOCH 49\n"
     ]
    },
    {
     "name": "stderr",
     "output_type": "stream",
     "text": [
      "100%|██████████| 5710/5710 [01:16<00:00, 74.57it/s]\n"
     ]
    },
    {
     "name": "stdout",
     "output_type": "stream",
     "text": [
      "Validation Accuracy           = 0.941\n",
      "Accuracy Model On Test Images = 0.920\n",
      "\n",
      "EPOCH 50\n"
     ]
    },
    {
     "name": "stderr",
     "output_type": "stream",
     "text": [
      "100%|██████████| 5710/5710 [01:16<00:00, 75.11it/s]\n"
     ]
    },
    {
     "name": "stdout",
     "output_type": "stream",
     "text": [
      "Validation Accuracy           = 0.933\n",
      "Accuracy Model On Test Images = 0.914\n",
      "\n",
      "EPOCH 51\n"
     ]
    },
    {
     "name": "stderr",
     "output_type": "stream",
     "text": [
      "100%|██████████| 5710/5710 [01:16<00:00, 74.63it/s]\n"
     ]
    },
    {
     "name": "stdout",
     "output_type": "stream",
     "text": [
      "Validation Accuracy           = 0.935\n",
      "Accuracy Model On Test Images = 0.919\n",
      "\n",
      "EPOCH 52\n"
     ]
    },
    {
     "name": "stderr",
     "output_type": "stream",
     "text": [
      "100%|██████████| 5710/5710 [01:15<00:00, 75.14it/s]\n"
     ]
    },
    {
     "name": "stdout",
     "output_type": "stream",
     "text": [
      "Validation Accuracy           = 0.938\n",
      "Accuracy Model On Test Images = 0.918\n",
      "\n",
      "EPOCH 53\n"
     ]
    },
    {
     "name": "stderr",
     "output_type": "stream",
     "text": [
      "100%|██████████| 5710/5710 [01:16<00:00, 74.69it/s]\n"
     ]
    },
    {
     "name": "stdout",
     "output_type": "stream",
     "text": [
      "Validation Accuracy           = 0.942\n",
      "Accuracy Model On Test Images = 0.919\n",
      "\n",
      "EPOCH 54\n"
     ]
    },
    {
     "name": "stderr",
     "output_type": "stream",
     "text": [
      "100%|██████████| 5710/5710 [01:16<00:00, 75.06it/s]\n"
     ]
    },
    {
     "name": "stdout",
     "output_type": "stream",
     "text": [
      "Validation Accuracy           = 0.943\n",
      "Accuracy Model On Test Images = 0.922\n",
      "\n",
      "EPOCH 55\n"
     ]
    },
    {
     "name": "stderr",
     "output_type": "stream",
     "text": [
      "100%|██████████| 5710/5710 [01:16<00:00, 74.61it/s]\n"
     ]
    },
    {
     "name": "stdout",
     "output_type": "stream",
     "text": [
      "Validation Accuracy           = 0.944\n",
      "Accuracy Model On Test Images = 0.921\n",
      "\n",
      "EPOCH 56\n"
     ]
    },
    {
     "name": "stderr",
     "output_type": "stream",
     "text": [
      "100%|██████████| 5710/5710 [01:16<00:00, 75.09it/s]\n"
     ]
    },
    {
     "name": "stdout",
     "output_type": "stream",
     "text": [
      "Validation Accuracy           = 0.938\n",
      "Accuracy Model On Test Images = 0.919\n",
      "\n",
      "EPOCH 57\n"
     ]
    },
    {
     "name": "stderr",
     "output_type": "stream",
     "text": [
      "100%|██████████| 5710/5710 [01:16<00:00, 74.65it/s]\n"
     ]
    },
    {
     "name": "stdout",
     "output_type": "stream",
     "text": [
      "Validation Accuracy           = 0.941\n",
      "Accuracy Model On Test Images = 0.922\n",
      "\n",
      "EPOCH 58\n"
     ]
    },
    {
     "name": "stderr",
     "output_type": "stream",
     "text": [
      "100%|██████████| 5710/5710 [01:16<00:00, 75.12it/s]\n"
     ]
    },
    {
     "name": "stdout",
     "output_type": "stream",
     "text": [
      "Validation Accuracy           = 0.945\n",
      "Accuracy Model On Test Images = 0.919\n",
      "\n",
      "EPOCH 59\n"
     ]
    },
    {
     "name": "stderr",
     "output_type": "stream",
     "text": [
      "100%|██████████| 5710/5710 [01:16<00:00, 74.64it/s]\n"
     ]
    },
    {
     "name": "stdout",
     "output_type": "stream",
     "text": [
      "Validation Accuracy           = 0.946\n",
      "Accuracy Model On Test Images = 0.925\n",
      "\n",
      "EPOCH 60\n"
     ]
    },
    {
     "name": "stderr",
     "output_type": "stream",
     "text": [
      "100%|██████████| 5710/5710 [01:15<00:00, 75.17it/s]\n"
     ]
    },
    {
     "name": "stdout",
     "output_type": "stream",
     "text": [
      "Validation Accuracy           = 0.943\n",
      "Accuracy Model On Test Images = 0.918\n",
      "\n",
      "EPOCH 61\n"
     ]
    },
    {
     "name": "stderr",
     "output_type": "stream",
     "text": [
      "100%|██████████| 5710/5710 [01:16<00:00, 74.66it/s]\n"
     ]
    },
    {
     "name": "stdout",
     "output_type": "stream",
     "text": [
      "Validation Accuracy           = 0.944\n",
      "Accuracy Model On Test Images = 0.923\n",
      "\n",
      "EPOCH 62\n"
     ]
    },
    {
     "name": "stderr",
     "output_type": "stream",
     "text": [
      "100%|██████████| 5710/5710 [01:16<00:00, 75.04it/s]\n"
     ]
    },
    {
     "name": "stdout",
     "output_type": "stream",
     "text": [
      "Validation Accuracy           = 0.946\n",
      "Accuracy Model On Test Images = 0.924\n",
      "\n",
      "EPOCH 63\n"
     ]
    },
    {
     "name": "stderr",
     "output_type": "stream",
     "text": [
      "100%|██████████| 5710/5710 [01:16<00:00, 74.64it/s]\n"
     ]
    },
    {
     "name": "stdout",
     "output_type": "stream",
     "text": [
      "Validation Accuracy           = 0.944\n",
      "Accuracy Model On Test Images = 0.920\n",
      "\n",
      "EPOCH 64\n"
     ]
    },
    {
     "name": "stderr",
     "output_type": "stream",
     "text": [
      "100%|██████████| 5710/5710 [01:16<00:00, 75.01it/s]\n"
     ]
    },
    {
     "name": "stdout",
     "output_type": "stream",
     "text": [
      "Validation Accuracy           = 0.947\n",
      "Accuracy Model On Test Images = 0.919\n",
      "\n",
      "EPOCH 65\n"
     ]
    },
    {
     "name": "stderr",
     "output_type": "stream",
     "text": [
      "100%|██████████| 5710/5710 [01:16<00:00, 74.59it/s]\n"
     ]
    },
    {
     "name": "stdout",
     "output_type": "stream",
     "text": [
      "Validation Accuracy           = 0.940\n",
      "Accuracy Model On Test Images = 0.916\n",
      "\n",
      "EPOCH 66\n"
     ]
    },
    {
     "name": "stderr",
     "output_type": "stream",
     "text": [
      "100%|██████████| 5710/5710 [01:15<00:00, 75.14it/s]\n"
     ]
    },
    {
     "name": "stdout",
     "output_type": "stream",
     "text": [
      "Validation Accuracy           = 0.943\n",
      "Accuracy Model On Test Images = 0.920\n",
      "\n",
      "EPOCH 67\n"
     ]
    },
    {
     "name": "stderr",
     "output_type": "stream",
     "text": [
      "100%|██████████| 5710/5710 [01:16<00:00, 74.60it/s]\n"
     ]
    },
    {
     "name": "stdout",
     "output_type": "stream",
     "text": [
      "Validation Accuracy           = 0.941\n",
      "Accuracy Model On Test Images = 0.919\n",
      "\n",
      "EPOCH 68\n"
     ]
    },
    {
     "name": "stderr",
     "output_type": "stream",
     "text": [
      "100%|██████████| 5710/5710 [01:16<00:00, 75.00it/s]\n"
     ]
    },
    {
     "name": "stdout",
     "output_type": "stream",
     "text": [
      "Validation Accuracy           = 0.941\n",
      "Accuracy Model On Test Images = 0.918\n",
      "\n",
      "EPOCH 69\n"
     ]
    },
    {
     "name": "stderr",
     "output_type": "stream",
     "text": [
      "100%|██████████| 5710/5710 [01:16<00:00, 74.62it/s]\n"
     ]
    },
    {
     "name": "stdout",
     "output_type": "stream",
     "text": [
      "Validation Accuracy           = 0.949\n",
      "Accuracy Model On Test Images = 0.922\n",
      "Model saved\n",
      "\n",
      "EPOCH 70\n"
     ]
    },
    {
     "name": "stderr",
     "output_type": "stream",
     "text": [
      "100%|██████████| 5710/5710 [01:16<00:00, 75.09it/s]\n"
     ]
    },
    {
     "name": "stdout",
     "output_type": "stream",
     "text": [
      "Validation Accuracy           = 0.942\n",
      "Accuracy Model On Test Images = 0.913\n",
      "\n",
      "EPOCH 71\n"
     ]
    },
    {
     "name": "stderr",
     "output_type": "stream",
     "text": [
      "100%|██████████| 5710/5710 [01:16<00:00, 74.62it/s]\n"
     ]
    },
    {
     "name": "stdout",
     "output_type": "stream",
     "text": [
      "Validation Accuracy           = 0.941\n",
      "Accuracy Model On Test Images = 0.921\n",
      "\n",
      "EPOCH 72\n"
     ]
    },
    {
     "name": "stderr",
     "output_type": "stream",
     "text": [
      "100%|██████████| 5710/5710 [01:16<00:00, 75.06it/s]\n"
     ]
    },
    {
     "name": "stdout",
     "output_type": "stream",
     "text": [
      "Validation Accuracy           = 0.945\n",
      "Accuracy Model On Test Images = 0.919\n",
      "\n",
      "EPOCH 73\n"
     ]
    },
    {
     "name": "stderr",
     "output_type": "stream",
     "text": [
      "100%|██████████| 5710/5710 [01:16<00:00, 74.70it/s]\n"
     ]
    },
    {
     "name": "stdout",
     "output_type": "stream",
     "text": [
      "Validation Accuracy           = 0.941\n",
      "Accuracy Model On Test Images = 0.915\n",
      "\n",
      "EPOCH 74\n"
     ]
    },
    {
     "name": "stderr",
     "output_type": "stream",
     "text": [
      "100%|██████████| 5710/5710 [01:15<00:00, 75.22it/s]\n"
     ]
    },
    {
     "name": "stdout",
     "output_type": "stream",
     "text": [
      "Validation Accuracy           = 0.940\n",
      "Accuracy Model On Test Images = 0.919\n",
      "\n",
      "EPOCH 75\n"
     ]
    },
    {
     "name": "stderr",
     "output_type": "stream",
     "text": [
      "100%|██████████| 5710/5710 [01:16<00:00, 74.64it/s]\n"
     ]
    },
    {
     "name": "stdout",
     "output_type": "stream",
     "text": [
      "Validation Accuracy           = 0.946\n",
      "Accuracy Model On Test Images = 0.920\n",
      "\n",
      "EPOCH 76\n"
     ]
    },
    {
     "name": "stderr",
     "output_type": "stream",
     "text": [
      "100%|██████████| 5710/5710 [01:16<00:00, 76.32it/s]\n"
     ]
    },
    {
     "name": "stdout",
     "output_type": "stream",
     "text": [
      "Validation Accuracy           = 0.942\n",
      "Accuracy Model On Test Images = 0.920\n",
      "\n",
      "EPOCH 77\n"
     ]
    },
    {
     "name": "stderr",
     "output_type": "stream",
     "text": [
      "100%|██████████| 5710/5710 [01:16<00:00, 74.69it/s]\n"
     ]
    },
    {
     "name": "stdout",
     "output_type": "stream",
     "text": [
      "Validation Accuracy           = 0.937\n",
      "Accuracy Model On Test Images = 0.914\n",
      "\n",
      "EPOCH 78\n"
     ]
    },
    {
     "name": "stderr",
     "output_type": "stream",
     "text": [
      "100%|██████████| 5710/5710 [01:16<00:00, 75.01it/s]\n"
     ]
    },
    {
     "name": "stdout",
     "output_type": "stream",
     "text": [
      "Validation Accuracy           = 0.946\n",
      "Accuracy Model On Test Images = 0.918\n",
      "\n",
      "EPOCH 79\n"
     ]
    },
    {
     "name": "stderr",
     "output_type": "stream",
     "text": [
      "100%|██████████| 5710/5710 [01:16<00:00, 74.53it/s]\n"
     ]
    },
    {
     "name": "stdout",
     "output_type": "stream",
     "text": [
      "Validation Accuracy           = 0.941\n",
      "Accuracy Model On Test Images = 0.918\n",
      "\n",
      "EPOCH 80\n"
     ]
    },
    {
     "name": "stderr",
     "output_type": "stream",
     "text": [
      "100%|██████████| 5710/5710 [01:15<00:00, 75.20it/s]\n"
     ]
    },
    {
     "name": "stdout",
     "output_type": "stream",
     "text": [
      "Validation Accuracy           = 0.944\n",
      "Accuracy Model On Test Images = 0.919\n",
      "\n",
      "EPOCH 81\n"
     ]
    },
    {
     "name": "stderr",
     "output_type": "stream",
     "text": [
      "100%|██████████| 5710/5710 [01:16<00:00, 74.62it/s]\n"
     ]
    },
    {
     "name": "stdout",
     "output_type": "stream",
     "text": [
      "Validation Accuracy           = 0.945\n",
      "Accuracy Model On Test Images = 0.918\n",
      "\n",
      "EPOCH 82\n"
     ]
    },
    {
     "name": "stderr",
     "output_type": "stream",
     "text": [
      "100%|██████████| 5710/5710 [01:15<00:00, 75.14it/s]\n"
     ]
    },
    {
     "name": "stdout",
     "output_type": "stream",
     "text": [
      "Validation Accuracy           = 0.942\n",
      "Accuracy Model On Test Images = 0.918\n",
      "\n",
      "EPOCH 83\n"
     ]
    },
    {
     "name": "stderr",
     "output_type": "stream",
     "text": [
      "100%|██████████| 5710/5710 [01:16<00:00, 74.63it/s]\n"
     ]
    },
    {
     "name": "stdout",
     "output_type": "stream",
     "text": [
      "Validation Accuracy           = 0.946\n",
      "Accuracy Model On Test Images = 0.920\n",
      "\n",
      "EPOCH 84\n"
     ]
    },
    {
     "name": "stderr",
     "output_type": "stream",
     "text": [
      "100%|██████████| 5710/5710 [01:15<00:00, 75.18it/s]\n"
     ]
    },
    {
     "name": "stdout",
     "output_type": "stream",
     "text": [
      "Validation Accuracy           = 0.942\n",
      "Accuracy Model On Test Images = 0.918\n",
      "\n",
      "EPOCH 85\n"
     ]
    },
    {
     "name": "stderr",
     "output_type": "stream",
     "text": [
      "100%|██████████| 5710/5710 [01:16<00:00, 74.64it/s]\n"
     ]
    },
    {
     "name": "stdout",
     "output_type": "stream",
     "text": [
      "Validation Accuracy           = 0.938\n",
      "Accuracy Model On Test Images = 0.918\n",
      "\n",
      "EPOCH 86\n"
     ]
    },
    {
     "name": "stderr",
     "output_type": "stream",
     "text": [
      "100%|██████████| 5710/5710 [01:16<00:00, 75.12it/s]\n"
     ]
    },
    {
     "name": "stdout",
     "output_type": "stream",
     "text": [
      "Validation Accuracy           = 0.942\n",
      "Accuracy Model On Test Images = 0.921\n",
      "\n",
      "EPOCH 87\n"
     ]
    },
    {
     "name": "stderr",
     "output_type": "stream",
     "text": [
      "100%|██████████| 5710/5710 [01:16<00:00, 74.64it/s]\n"
     ]
    },
    {
     "name": "stdout",
     "output_type": "stream",
     "text": [
      "Validation Accuracy           = 0.947\n",
      "Accuracy Model On Test Images = 0.922\n",
      "\n",
      "EPOCH 88\n"
     ]
    },
    {
     "name": "stderr",
     "output_type": "stream",
     "text": [
      "100%|██████████| 5710/5710 [01:15<00:00, 75.16it/s]\n"
     ]
    },
    {
     "name": "stdout",
     "output_type": "stream",
     "text": [
      "Validation Accuracy           = 0.940\n",
      "Accuracy Model On Test Images = 0.920\n",
      "\n",
      "EPOCH 89\n"
     ]
    },
    {
     "name": "stderr",
     "output_type": "stream",
     "text": [
      "100%|██████████| 5710/5710 [01:16<00:00, 74.64it/s]\n"
     ]
    },
    {
     "name": "stdout",
     "output_type": "stream",
     "text": [
      "Validation Accuracy           = 0.946\n",
      "Accuracy Model On Test Images = 0.919\n",
      "\n",
      "EPOCH 90\n"
     ]
    },
    {
     "name": "stderr",
     "output_type": "stream",
     "text": [
      "100%|██████████| 5710/5710 [01:16<00:00, 75.11it/s]\n"
     ]
    },
    {
     "name": "stdout",
     "output_type": "stream",
     "text": [
      "Validation Accuracy           = 0.945\n",
      "Accuracy Model On Test Images = 0.923\n",
      "\n",
      "EPOCH 91\n"
     ]
    },
    {
     "name": "stderr",
     "output_type": "stream",
     "text": [
      "100%|██████████| 5710/5710 [01:16<00:00, 74.54it/s]\n"
     ]
    },
    {
     "name": "stdout",
     "output_type": "stream",
     "text": [
      "Validation Accuracy           = 0.947\n",
      "Accuracy Model On Test Images = 0.926\n",
      "\n",
      "EPOCH 92\n"
     ]
    },
    {
     "name": "stderr",
     "output_type": "stream",
     "text": [
      "100%|██████████| 5710/5710 [01:16<00:00, 74.98it/s]\n"
     ]
    },
    {
     "name": "stdout",
     "output_type": "stream",
     "text": [
      "Validation Accuracy           = 0.943\n",
      "Accuracy Model On Test Images = 0.926\n",
      "\n",
      "EPOCH 93\n"
     ]
    },
    {
     "name": "stderr",
     "output_type": "stream",
     "text": [
      "100%|██████████| 5710/5710 [01:16<00:00, 74.69it/s]\n"
     ]
    },
    {
     "name": "stdout",
     "output_type": "stream",
     "text": [
      "Validation Accuracy           = 0.943\n",
      "Accuracy Model On Test Images = 0.919\n",
      "\n",
      "EPOCH 94\n"
     ]
    },
    {
     "name": "stderr",
     "output_type": "stream",
     "text": [
      "100%|██████████| 5710/5710 [01:16<00:00, 76.43it/s]\n"
     ]
    },
    {
     "name": "stdout",
     "output_type": "stream",
     "text": [
      "Validation Accuracy           = 0.946\n",
      "Accuracy Model On Test Images = 0.921\n",
      "\n",
      "EPOCH 95\n"
     ]
    },
    {
     "name": "stderr",
     "output_type": "stream",
     "text": [
      "100%|██████████| 5710/5710 [01:16<00:00, 74.58it/s]\n"
     ]
    },
    {
     "name": "stdout",
     "output_type": "stream",
     "text": [
      "Validation Accuracy           = 0.942\n",
      "Accuracy Model On Test Images = 0.921\n",
      "\n",
      "EPOCH 96\n"
     ]
    },
    {
     "name": "stderr",
     "output_type": "stream",
     "text": [
      "100%|██████████| 5710/5710 [01:16<00:00, 75.06it/s]\n"
     ]
    },
    {
     "name": "stdout",
     "output_type": "stream",
     "text": [
      "Validation Accuracy           = 0.946\n",
      "Accuracy Model On Test Images = 0.922\n",
      "\n",
      "EPOCH 97\n"
     ]
    },
    {
     "name": "stderr",
     "output_type": "stream",
     "text": [
      "100%|██████████| 5710/5710 [01:16<00:00, 74.63it/s]\n"
     ]
    },
    {
     "name": "stdout",
     "output_type": "stream",
     "text": [
      "Validation Accuracy           = 0.938\n",
      "Accuracy Model On Test Images = 0.920\n",
      "\n",
      "EPOCH 98\n"
     ]
    },
    {
     "name": "stderr",
     "output_type": "stream",
     "text": [
      "100%|██████████| 5710/5710 [01:16<00:00, 75.06it/s]\n"
     ]
    },
    {
     "name": "stdout",
     "output_type": "stream",
     "text": [
      "Validation Accuracy           = 0.942\n",
      "Accuracy Model On Test Images = 0.919\n",
      "\n",
      "EPOCH 99\n"
     ]
    },
    {
     "name": "stderr",
     "output_type": "stream",
     "text": [
      "100%|██████████| 5710/5710 [01:16<00:00, 74.63it/s]\n"
     ]
    },
    {
     "name": "stdout",
     "output_type": "stream",
     "text": [
      "Validation Accuracy           = 0.943\n",
      "Accuracy Model On Test Images = 0.923\n",
      "\n",
      "EPOCH 100\n"
     ]
    },
    {
     "name": "stderr",
     "output_type": "stream",
     "text": [
      "100%|██████████| 5710/5710 [01:15<00:00, 75.17it/s]\n"
     ]
    },
    {
     "name": "stdout",
     "output_type": "stream",
     "text": [
      "Validation Accuracy           = 0.944\n",
      "Accuracy Model On Test Images = 0.919\n",
      "\n",
      "EPOCH 101\n"
     ]
    },
    {
     "name": "stderr",
     "output_type": "stream",
     "text": [
      "100%|██████████| 5710/5710 [01:16<00:00, 74.61it/s]\n"
     ]
    },
    {
     "name": "stdout",
     "output_type": "stream",
     "text": [
      "Validation Accuracy           = 0.942\n",
      "Accuracy Model On Test Images = 0.921\n",
      "\n",
      "EPOCH 102\n"
     ]
    },
    {
     "name": "stderr",
     "output_type": "stream",
     "text": [
      "100%|██████████| 5710/5710 [01:15<00:00, 75.14it/s]\n"
     ]
    },
    {
     "name": "stdout",
     "output_type": "stream",
     "text": [
      "Validation Accuracy           = 0.945\n",
      "Accuracy Model On Test Images = 0.922\n",
      "\n",
      "EPOCH 103\n"
     ]
    },
    {
     "name": "stderr",
     "output_type": "stream",
     "text": [
      "100%|██████████| 5710/5710 [01:16<00:00, 74.65it/s]\n"
     ]
    },
    {
     "name": "stdout",
     "output_type": "stream",
     "text": [
      "Validation Accuracy           = 0.943\n",
      "Accuracy Model On Test Images = 0.920\n",
      "\n",
      "EPOCH 104\n"
     ]
    },
    {
     "name": "stderr",
     "output_type": "stream",
     "text": [
      "100%|██████████| 5710/5710 [01:16<00:00, 75.10it/s]\n"
     ]
    },
    {
     "name": "stdout",
     "output_type": "stream",
     "text": [
      "Validation Accuracy           = 0.946\n",
      "Accuracy Model On Test Images = 0.924\n",
      "\n",
      "EPOCH 105\n"
     ]
    },
    {
     "name": "stderr",
     "output_type": "stream",
     "text": [
      "100%|██████████| 5710/5710 [01:16<00:00, 74.70it/s]\n"
     ]
    },
    {
     "name": "stdout",
     "output_type": "stream",
     "text": [
      "Validation Accuracy           = 0.939\n",
      "Accuracy Model On Test Images = 0.915\n",
      "\n",
      "EPOCH 106\n"
     ]
    },
    {
     "name": "stderr",
     "output_type": "stream",
     "text": [
      "100%|██████████| 5710/5710 [01:16<00:00, 75.11it/s]\n"
     ]
    },
    {
     "name": "stdout",
     "output_type": "stream",
     "text": [
      "Validation Accuracy           = 0.945\n",
      "Accuracy Model On Test Images = 0.922\n",
      "\n",
      "EPOCH 107\n"
     ]
    },
    {
     "name": "stderr",
     "output_type": "stream",
     "text": [
      "100%|██████████| 5710/5710 [01:16<00:00, 74.44it/s]\n"
     ]
    },
    {
     "name": "stdout",
     "output_type": "stream",
     "text": [
      "Validation Accuracy           = 0.942\n",
      "Accuracy Model On Test Images = 0.916\n",
      "\n",
      "EPOCH 108\n"
     ]
    },
    {
     "name": "stderr",
     "output_type": "stream",
     "text": [
      "100%|██████████| 5710/5710 [01:15<00:00, 75.14it/s]\n"
     ]
    },
    {
     "name": "stdout",
     "output_type": "stream",
     "text": [
      "Validation Accuracy           = 0.943\n",
      "Accuracy Model On Test Images = 0.918\n",
      "\n",
      "EPOCH 109\n"
     ]
    },
    {
     "name": "stderr",
     "output_type": "stream",
     "text": [
      "100%|██████████| 5710/5710 [01:16<00:00, 74.71it/s]\n"
     ]
    },
    {
     "name": "stdout",
     "output_type": "stream",
     "text": [
      "Validation Accuracy           = 0.943\n",
      "Accuracy Model On Test Images = 0.920\n",
      "\n",
      "EPOCH 110\n"
     ]
    },
    {
     "name": "stderr",
     "output_type": "stream",
     "text": [
      "100%|██████████| 5710/5710 [01:16<00:00, 75.04it/s]\n"
     ]
    },
    {
     "name": "stdout",
     "output_type": "stream",
     "text": [
      "Validation Accuracy           = 0.940\n",
      "Accuracy Model On Test Images = 0.921\n",
      "\n",
      "EPOCH 111\n"
     ]
    },
    {
     "name": "stderr",
     "output_type": "stream",
     "text": [
      "100%|██████████| 5710/5710 [01:16<00:00, 74.70it/s]\n"
     ]
    },
    {
     "name": "stdout",
     "output_type": "stream",
     "text": [
      "Validation Accuracy           = 0.944\n",
      "Accuracy Model On Test Images = 0.917\n",
      "\n",
      "EPOCH 112\n"
     ]
    },
    {
     "name": "stderr",
     "output_type": "stream",
     "text": [
      "100%|██████████| 5710/5710 [01:16<00:00, 75.13it/s]\n"
     ]
    },
    {
     "name": "stdout",
     "output_type": "stream",
     "text": [
      "Validation Accuracy           = 0.945\n",
      "Accuracy Model On Test Images = 0.921\n",
      "\n",
      "EPOCH 113\n"
     ]
    },
    {
     "name": "stderr",
     "output_type": "stream",
     "text": [
      "100%|██████████| 5710/5710 [01:16<00:00, 74.67it/s]\n"
     ]
    },
    {
     "name": "stdout",
     "output_type": "stream",
     "text": [
      "Validation Accuracy           = 0.943\n",
      "Accuracy Model On Test Images = 0.922\n",
      "\n",
      "EPOCH 114\n"
     ]
    },
    {
     "name": "stderr",
     "output_type": "stream",
     "text": [
      "100%|██████████| 5710/5710 [01:16<00:00, 75.09it/s]\n"
     ]
    },
    {
     "name": "stdout",
     "output_type": "stream",
     "text": [
      "Validation Accuracy           = 0.938\n",
      "Accuracy Model On Test Images = 0.916\n",
      "\n",
      "EPOCH 115\n"
     ]
    },
    {
     "name": "stderr",
     "output_type": "stream",
     "text": [
      "100%|██████████| 5710/5710 [01:16<00:00, 74.56it/s]\n"
     ]
    },
    {
     "name": "stdout",
     "output_type": "stream",
     "text": [
      "Validation Accuracy           = 0.941\n",
      "Accuracy Model On Test Images = 0.921\n",
      "\n",
      "EPOCH 116\n"
     ]
    },
    {
     "name": "stderr",
     "output_type": "stream",
     "text": [
      "100%|██████████| 5710/5710 [01:16<00:00, 75.08it/s]\n"
     ]
    },
    {
     "name": "stdout",
     "output_type": "stream",
     "text": [
      "Validation Accuracy           = 0.944\n",
      "Accuracy Model On Test Images = 0.919\n",
      "\n",
      "EPOCH 117\n"
     ]
    },
    {
     "name": "stderr",
     "output_type": "stream",
     "text": [
      "100%|██████████| 5710/5710 [01:16<00:00, 74.61it/s]\n"
     ]
    },
    {
     "name": "stdout",
     "output_type": "stream",
     "text": [
      "Validation Accuracy           = 0.941\n",
      "Accuracy Model On Test Images = 0.924\n",
      "\n",
      "EPOCH 118\n"
     ]
    },
    {
     "name": "stderr",
     "output_type": "stream",
     "text": [
      "100%|██████████| 5710/5710 [01:16<00:00, 75.07it/s]\n"
     ]
    },
    {
     "name": "stdout",
     "output_type": "stream",
     "text": [
      "Validation Accuracy           = 0.943\n",
      "Accuracy Model On Test Images = 0.921\n",
      "\n",
      "EPOCH 119\n"
     ]
    },
    {
     "name": "stderr",
     "output_type": "stream",
     "text": [
      "100%|██████████| 5710/5710 [01:16<00:00, 74.57it/s]\n"
     ]
    },
    {
     "name": "stdout",
     "output_type": "stream",
     "text": [
      "Validation Accuracy           = 0.941\n",
      "Accuracy Model On Test Images = 0.923\n",
      "\n",
      "EPOCH 120\n"
     ]
    },
    {
     "name": "stderr",
     "output_type": "stream",
     "text": [
      "100%|██████████| 5710/5710 [01:15<00:00, 75.14it/s]\n"
     ]
    },
    {
     "name": "stdout",
     "output_type": "stream",
     "text": [
      "Validation Accuracy           = 0.941\n",
      "Accuracy Model On Test Images = 0.923\n",
      "\n",
      "EPOCH 121\n"
     ]
    },
    {
     "name": "stderr",
     "output_type": "stream",
     "text": [
      "100%|██████████| 5710/5710 [01:16<00:00, 74.65it/s]\n"
     ]
    },
    {
     "name": "stdout",
     "output_type": "stream",
     "text": [
      "Validation Accuracy           = 0.945\n",
      "Accuracy Model On Test Images = 0.926\n",
      "\n",
      "EPOCH 122\n"
     ]
    },
    {
     "name": "stderr",
     "output_type": "stream",
     "text": [
      "100%|██████████| 5710/5710 [01:16<00:00, 75.01it/s]\n"
     ]
    },
    {
     "name": "stdout",
     "output_type": "stream",
     "text": [
      "Validation Accuracy           = 0.944\n",
      "Accuracy Model On Test Images = 0.924\n",
      "\n",
      "EPOCH 123\n"
     ]
    },
    {
     "name": "stderr",
     "output_type": "stream",
     "text": [
      "100%|██████████| 5710/5710 [01:16<00:00, 74.54it/s]\n"
     ]
    },
    {
     "name": "stdout",
     "output_type": "stream",
     "text": [
      "Validation Accuracy           = 0.943\n",
      "Accuracy Model On Test Images = 0.916\n",
      "\n",
      "EPOCH 124\n"
     ]
    },
    {
     "name": "stderr",
     "output_type": "stream",
     "text": [
      "100%|██████████| 5710/5710 [01:16<00:00, 75.11it/s]\n"
     ]
    },
    {
     "name": "stdout",
     "output_type": "stream",
     "text": [
      "Validation Accuracy           = 0.943\n",
      "Accuracy Model On Test Images = 0.920\n",
      "\n",
      "EPOCH 125\n"
     ]
    },
    {
     "name": "stderr",
     "output_type": "stream",
     "text": [
      "100%|██████████| 5710/5710 [01:16<00:00, 74.63it/s]\n"
     ]
    },
    {
     "name": "stdout",
     "output_type": "stream",
     "text": [
      "Validation Accuracy           = 0.946\n",
      "Accuracy Model On Test Images = 0.923\n",
      "\n",
      "EPOCH 126\n"
     ]
    },
    {
     "name": "stderr",
     "output_type": "stream",
     "text": [
      "100%|██████████| 5710/5710 [01:16<00:00, 75.11it/s]\n"
     ]
    },
    {
     "name": "stdout",
     "output_type": "stream",
     "text": [
      "Validation Accuracy           = 0.941\n",
      "Accuracy Model On Test Images = 0.924\n",
      "\n",
      "EPOCH 127\n"
     ]
    },
    {
     "name": "stderr",
     "output_type": "stream",
     "text": [
      "100%|██████████| 5710/5710 [01:16<00:00, 74.67it/s]\n"
     ]
    },
    {
     "name": "stdout",
     "output_type": "stream",
     "text": [
      "Validation Accuracy           = 0.938\n",
      "Accuracy Model On Test Images = 0.919\n",
      "\n",
      "EPOCH 128\n"
     ]
    },
    {
     "name": "stderr",
     "output_type": "stream",
     "text": [
      "100%|██████████| 5710/5710 [01:15<00:00, 75.16it/s]\n"
     ]
    },
    {
     "name": "stdout",
     "output_type": "stream",
     "text": [
      "Validation Accuracy           = 0.939\n",
      "Accuracy Model On Test Images = 0.918\n",
      "\n",
      "EPOCH 129\n"
     ]
    },
    {
     "name": "stderr",
     "output_type": "stream",
     "text": [
      "100%|██████████| 5710/5710 [01:16<00:00, 74.56it/s]\n"
     ]
    },
    {
     "name": "stdout",
     "output_type": "stream",
     "text": [
      "Validation Accuracy           = 0.941\n",
      "Accuracy Model On Test Images = 0.921\n",
      "\n",
      "EPOCH 130\n"
     ]
    },
    {
     "name": "stderr",
     "output_type": "stream",
     "text": [
      "100%|██████████| 5710/5710 [01:16<00:00, 75.04it/s]\n"
     ]
    },
    {
     "name": "stdout",
     "output_type": "stream",
     "text": [
      "Validation Accuracy           = 0.946\n",
      "Accuracy Model On Test Images = 0.923\n",
      "\n",
      "EPOCH 131\n"
     ]
    },
    {
     "name": "stderr",
     "output_type": "stream",
     "text": [
      "100%|██████████| 5710/5710 [01:16<00:00, 74.64it/s]\n"
     ]
    },
    {
     "name": "stdout",
     "output_type": "stream",
     "text": [
      "Validation Accuracy           = 0.941\n",
      "Accuracy Model On Test Images = 0.922\n",
      "\n",
      "EPOCH 132\n"
     ]
    },
    {
     "name": "stderr",
     "output_type": "stream",
     "text": [
      "100%|██████████| 5710/5710 [01:16<00:00, 75.07it/s]\n"
     ]
    },
    {
     "name": "stdout",
     "output_type": "stream",
     "text": [
      "Validation Accuracy           = 0.944\n",
      "Accuracy Model On Test Images = 0.922\n",
      "\n",
      "EPOCH 133\n"
     ]
    },
    {
     "name": "stderr",
     "output_type": "stream",
     "text": [
      "100%|██████████| 5710/5710 [01:16<00:00, 74.58it/s]\n"
     ]
    },
    {
     "name": "stdout",
     "output_type": "stream",
     "text": [
      "Validation Accuracy           = 0.943\n",
      "Accuracy Model On Test Images = 0.922\n",
      "\n",
      "EPOCH 134\n"
     ]
    },
    {
     "name": "stderr",
     "output_type": "stream",
     "text": [
      "100%|██████████| 5710/5710 [01:16<00:00, 75.12it/s]\n"
     ]
    },
    {
     "name": "stdout",
     "output_type": "stream",
     "text": [
      "Validation Accuracy           = 0.942\n",
      "Accuracy Model On Test Images = 0.921\n",
      "\n",
      "EPOCH 135\n"
     ]
    },
    {
     "name": "stderr",
     "output_type": "stream",
     "text": [
      "100%|██████████| 5710/5710 [01:16<00:00, 74.53it/s]\n"
     ]
    },
    {
     "name": "stdout",
     "output_type": "stream",
     "text": [
      "Validation Accuracy           = 0.942\n",
      "Accuracy Model On Test Images = 0.917\n",
      "\n",
      "EPOCH 136\n"
     ]
    },
    {
     "name": "stderr",
     "output_type": "stream",
     "text": [
      "100%|██████████| 5710/5710 [01:16<00:00, 75.09it/s]\n"
     ]
    },
    {
     "name": "stdout",
     "output_type": "stream",
     "text": [
      "Validation Accuracy           = 0.947\n",
      "Accuracy Model On Test Images = 0.923\n",
      "\n",
      "EPOCH 137\n"
     ]
    },
    {
     "name": "stderr",
     "output_type": "stream",
     "text": [
      "100%|██████████| 5710/5710 [01:16<00:00, 74.68it/s]\n"
     ]
    },
    {
     "name": "stdout",
     "output_type": "stream",
     "text": [
      "Validation Accuracy           = 0.942\n",
      "Accuracy Model On Test Images = 0.921\n",
      "\n",
      "EPOCH 138\n"
     ]
    },
    {
     "name": "stderr",
     "output_type": "stream",
     "text": [
      "100%|██████████| 5710/5710 [01:16<00:00, 75.13it/s]\n"
     ]
    },
    {
     "name": "stdout",
     "output_type": "stream",
     "text": [
      "Validation Accuracy           = 0.945\n",
      "Accuracy Model On Test Images = 0.924\n",
      "\n",
      "EPOCH 139\n"
     ]
    },
    {
     "name": "stderr",
     "output_type": "stream",
     "text": [
      "100%|██████████| 5710/5710 [01:16<00:00, 74.43it/s]\n"
     ]
    },
    {
     "name": "stdout",
     "output_type": "stream",
     "text": [
      "Validation Accuracy           = 0.942\n",
      "Accuracy Model On Test Images = 0.922\n",
      "\n",
      "EPOCH 140\n"
     ]
    },
    {
     "name": "stderr",
     "output_type": "stream",
     "text": [
      "100%|██████████| 5710/5710 [01:16<00:00, 75.12it/s]\n"
     ]
    },
    {
     "name": "stdout",
     "output_type": "stream",
     "text": [
      "Validation Accuracy           = 0.939\n",
      "Accuracy Model On Test Images = 0.917\n",
      "\n",
      "EPOCH 141\n"
     ]
    },
    {
     "name": "stderr",
     "output_type": "stream",
     "text": [
      "100%|██████████| 5710/5710 [01:16<00:00, 74.60it/s]\n"
     ]
    },
    {
     "name": "stdout",
     "output_type": "stream",
     "text": [
      "Validation Accuracy           = 0.948\n",
      "Accuracy Model On Test Images = 0.924\n",
      "\n",
      "EPOCH 142\n"
     ]
    },
    {
     "name": "stderr",
     "output_type": "stream",
     "text": [
      "100%|██████████| 5710/5710 [01:16<00:00, 75.08it/s]\n"
     ]
    },
    {
     "name": "stdout",
     "output_type": "stream",
     "text": [
      "Validation Accuracy           = 0.946\n",
      "Accuracy Model On Test Images = 0.923\n",
      "\n",
      "EPOCH 143\n"
     ]
    },
    {
     "name": "stderr",
     "output_type": "stream",
     "text": [
      "100%|██████████| 5710/5710 [01:16<00:00, 74.57it/s]\n"
     ]
    },
    {
     "name": "stdout",
     "output_type": "stream",
     "text": [
      "Validation Accuracy           = 0.943\n",
      "Accuracy Model On Test Images = 0.922\n",
      "\n",
      "EPOCH 144\n"
     ]
    },
    {
     "name": "stderr",
     "output_type": "stream",
     "text": [
      "100%|██████████| 5710/5710 [01:15<00:00, 75.14it/s]\n"
     ]
    },
    {
     "name": "stdout",
     "output_type": "stream",
     "text": [
      "Validation Accuracy           = 0.947\n",
      "Accuracy Model On Test Images = 0.924\n",
      "\n",
      "EPOCH 145\n"
     ]
    },
    {
     "name": "stderr",
     "output_type": "stream",
     "text": [
      "100%|██████████| 5710/5710 [01:16<00:00, 74.62it/s]\n"
     ]
    },
    {
     "name": "stdout",
     "output_type": "stream",
     "text": [
      "Validation Accuracy           = 0.943\n",
      "Accuracy Model On Test Images = 0.924\n",
      "\n",
      "EPOCH 146\n"
     ]
    },
    {
     "name": "stderr",
     "output_type": "stream",
     "text": [
      "100%|██████████| 5710/5710 [01:16<00:00, 75.01it/s]\n"
     ]
    },
    {
     "name": "stdout",
     "output_type": "stream",
     "text": [
      "Validation Accuracy           = 0.947\n",
      "Accuracy Model On Test Images = 0.925\n",
      "\n",
      "EPOCH 147\n"
     ]
    },
    {
     "name": "stderr",
     "output_type": "stream",
     "text": [
      "100%|██████████| 5710/5710 [01:16<00:00, 74.67it/s]\n"
     ]
    },
    {
     "name": "stdout",
     "output_type": "stream",
     "text": [
      "Validation Accuracy           = 0.943\n",
      "Accuracy Model On Test Images = 0.920\n",
      "\n",
      "EPOCH 148\n"
     ]
    },
    {
     "name": "stderr",
     "output_type": "stream",
     "text": [
      "100%|██████████| 5710/5710 [01:15<00:00, 75.78it/s]\n"
     ]
    },
    {
     "name": "stdout",
     "output_type": "stream",
     "text": [
      "Validation Accuracy           = 0.945\n",
      "Accuracy Model On Test Images = 0.922\n",
      "\n",
      "EPOCH 149\n"
     ]
    },
    {
     "name": "stderr",
     "output_type": "stream",
     "text": [
      "100%|██████████| 5710/5710 [01:16<00:00, 74.67it/s]\n"
     ]
    },
    {
     "name": "stdout",
     "output_type": "stream",
     "text": [
      "Validation Accuracy           = 0.940\n",
      "Accuracy Model On Test Images = 0.920\n",
      "\n",
      "EPOCH 150\n"
     ]
    },
    {
     "name": "stderr",
     "output_type": "stream",
     "text": [
      "100%|██████████| 5710/5710 [01:16<00:00, 75.08it/s]\n"
     ]
    },
    {
     "name": "stdout",
     "output_type": "stream",
     "text": [
      "Validation Accuracy           = 0.942\n",
      "Accuracy Model On Test Images = 0.916\n",
      "\n",
      "EPOCH 151\n"
     ]
    },
    {
     "name": "stderr",
     "output_type": "stream",
     "text": [
      "100%|██████████| 5710/5710 [01:16<00:00, 74.64it/s]\n"
     ]
    },
    {
     "name": "stdout",
     "output_type": "stream",
     "text": [
      "Validation Accuracy           = 0.949\n",
      "Accuracy Model On Test Images = 0.924\n",
      "\n",
      "EPOCH 152\n"
     ]
    },
    {
     "name": "stderr",
     "output_type": "stream",
     "text": [
      "100%|██████████| 5710/5710 [01:16<00:00, 75.08it/s]\n"
     ]
    },
    {
     "name": "stdout",
     "output_type": "stream",
     "text": [
      "Validation Accuracy           = 0.941\n",
      "Accuracy Model On Test Images = 0.923\n",
      "\n",
      "EPOCH 153\n"
     ]
    },
    {
     "name": "stderr",
     "output_type": "stream",
     "text": [
      "100%|██████████| 5710/5710 [01:16<00:00, 74.60it/s]\n"
     ]
    },
    {
     "name": "stdout",
     "output_type": "stream",
     "text": [
      "Validation Accuracy           = 0.945\n",
      "Accuracy Model On Test Images = 0.922\n",
      "\n",
      "EPOCH 154\n"
     ]
    },
    {
     "name": "stderr",
     "output_type": "stream",
     "text": [
      "100%|██████████| 5710/5710 [01:15<00:00, 75.17it/s]\n"
     ]
    },
    {
     "name": "stdout",
     "output_type": "stream",
     "text": [
      "Validation Accuracy           = 0.943\n",
      "Accuracy Model On Test Images = 0.925\n",
      "\n",
      "EPOCH 155\n"
     ]
    },
    {
     "name": "stderr",
     "output_type": "stream",
     "text": [
      "100%|██████████| 5710/5710 [01:16<00:00, 74.62it/s]\n"
     ]
    },
    {
     "name": "stdout",
     "output_type": "stream",
     "text": [
      "Validation Accuracy           = 0.946\n",
      "Accuracy Model On Test Images = 0.922\n",
      "\n",
      "EPOCH 156\n"
     ]
    },
    {
     "name": "stderr",
     "output_type": "stream",
     "text": [
      "100%|██████████| 5710/5710 [01:16<00:00, 75.04it/s]\n"
     ]
    },
    {
     "name": "stdout",
     "output_type": "stream",
     "text": [
      "Validation Accuracy           = 0.944\n",
      "Accuracy Model On Test Images = 0.924\n",
      "\n",
      "EPOCH 157\n"
     ]
    },
    {
     "name": "stderr",
     "output_type": "stream",
     "text": [
      "100%|██████████| 5710/5710 [01:16<00:00, 74.62it/s]\n"
     ]
    },
    {
     "name": "stdout",
     "output_type": "stream",
     "text": [
      "Validation Accuracy           = 0.945\n",
      "Accuracy Model On Test Images = 0.925\n",
      "\n",
      "EPOCH 158\n"
     ]
    },
    {
     "name": "stderr",
     "output_type": "stream",
     "text": [
      "100%|██████████| 5710/5710 [01:15<00:00, 75.96it/s]\n"
     ]
    },
    {
     "name": "stdout",
     "output_type": "stream",
     "text": [
      "Validation Accuracy           = 0.947\n",
      "Accuracy Model On Test Images = 0.927\n",
      "\n",
      "EPOCH 159\n"
     ]
    },
    {
     "name": "stderr",
     "output_type": "stream",
     "text": [
      "100%|██████████| 5710/5710 [01:16<00:00, 74.67it/s]\n"
     ]
    },
    {
     "name": "stdout",
     "output_type": "stream",
     "text": [
      "Validation Accuracy           = 0.947\n",
      "Accuracy Model On Test Images = 0.925\n",
      "\n",
      "EPOCH 160\n"
     ]
    },
    {
     "name": "stderr",
     "output_type": "stream",
     "text": [
      "100%|██████████| 5710/5710 [01:16<00:00, 75.10it/s]\n"
     ]
    },
    {
     "name": "stdout",
     "output_type": "stream",
     "text": [
      "Validation Accuracy           = 0.947\n",
      "Accuracy Model On Test Images = 0.925\n",
      "\n",
      "EPOCH 161\n"
     ]
    },
    {
     "name": "stderr",
     "output_type": "stream",
     "text": [
      "100%|██████████| 5710/5710 [01:16<00:00, 74.58it/s]\n"
     ]
    },
    {
     "name": "stdout",
     "output_type": "stream",
     "text": [
      "Validation Accuracy           = 0.945\n",
      "Accuracy Model On Test Images = 0.923\n",
      "\n",
      "EPOCH 162\n"
     ]
    },
    {
     "name": "stderr",
     "output_type": "stream",
     "text": [
      "100%|██████████| 5710/5710 [01:15<00:00, 75.16it/s]\n"
     ]
    },
    {
     "name": "stdout",
     "output_type": "stream",
     "text": [
      "Validation Accuracy           = 0.946\n",
      "Accuracy Model On Test Images = 0.924\n",
      "\n",
      "EPOCH 163\n"
     ]
    },
    {
     "name": "stderr",
     "output_type": "stream",
     "text": [
      "100%|██████████| 5710/5710 [01:16<00:00, 74.62it/s]\n"
     ]
    },
    {
     "name": "stdout",
     "output_type": "stream",
     "text": [
      "Validation Accuracy           = 0.946\n",
      "Accuracy Model On Test Images = 0.923\n",
      "\n",
      "EPOCH 164\n"
     ]
    },
    {
     "name": "stderr",
     "output_type": "stream",
     "text": [
      "100%|██████████| 5710/5710 [01:16<00:00, 75.07it/s]\n"
     ]
    },
    {
     "name": "stdout",
     "output_type": "stream",
     "text": [
      "Validation Accuracy           = 0.945\n",
      "Accuracy Model On Test Images = 0.924\n",
      "\n",
      "EPOCH 165\n"
     ]
    },
    {
     "name": "stderr",
     "output_type": "stream",
     "text": [
      "100%|██████████| 5710/5710 [01:16<00:00, 74.52it/s]\n"
     ]
    },
    {
     "name": "stdout",
     "output_type": "stream",
     "text": [
      "Validation Accuracy           = 0.951\n",
      "Accuracy Model On Test Images = 0.921\n",
      "Model saved\n",
      "\n",
      "EPOCH 166\n"
     ]
    },
    {
     "name": "stderr",
     "output_type": "stream",
     "text": [
      "100%|██████████| 5710/5710 [01:16<00:00, 75.12it/s]\n"
     ]
    },
    {
     "name": "stdout",
     "output_type": "stream",
     "text": [
      "Validation Accuracy           = 0.949\n",
      "Accuracy Model On Test Images = 0.925\n",
      "\n",
      "EPOCH 167\n"
     ]
    },
    {
     "name": "stderr",
     "output_type": "stream",
     "text": [
      "100%|██████████| 5710/5710 [01:16<00:00, 74.62it/s]\n"
     ]
    },
    {
     "name": "stdout",
     "output_type": "stream",
     "text": [
      "Validation Accuracy           = 0.954\n",
      "Accuracy Model On Test Images = 0.927\n",
      "Model saved\n",
      "\n",
      "EPOCH 168\n"
     ]
    },
    {
     "name": "stderr",
     "output_type": "stream",
     "text": [
      "100%|██████████| 5710/5710 [01:16<00:00, 75.07it/s]\n"
     ]
    },
    {
     "name": "stdout",
     "output_type": "stream",
     "text": [
      "Validation Accuracy           = 0.946\n",
      "Accuracy Model On Test Images = 0.923\n",
      "\n",
      "EPOCH 169\n"
     ]
    },
    {
     "name": "stderr",
     "output_type": "stream",
     "text": [
      "100%|██████████| 5710/5710 [01:16<00:00, 74.54it/s]\n"
     ]
    },
    {
     "name": "stdout",
     "output_type": "stream",
     "text": [
      "Validation Accuracy           = 0.937\n",
      "Accuracy Model On Test Images = 0.922\n",
      "\n",
      "EPOCH 170\n"
     ]
    },
    {
     "name": "stderr",
     "output_type": "stream",
     "text": [
      "100%|██████████| 5710/5710 [01:16<00:00, 75.02it/s]\n"
     ]
    },
    {
     "name": "stdout",
     "output_type": "stream",
     "text": [
      "Validation Accuracy           = 0.947\n",
      "Accuracy Model On Test Images = 0.927\n",
      "\n",
      "EPOCH 171\n"
     ]
    },
    {
     "name": "stderr",
     "output_type": "stream",
     "text": [
      "100%|██████████| 5710/5710 [01:16<00:00, 74.61it/s]\n"
     ]
    },
    {
     "name": "stdout",
     "output_type": "stream",
     "text": [
      "Validation Accuracy           = 0.948\n",
      "Accuracy Model On Test Images = 0.925\n",
      "\n",
      "EPOCH 172\n"
     ]
    },
    {
     "name": "stderr",
     "output_type": "stream",
     "text": [
      "100%|██████████| 5710/5710 [01:16<00:00, 74.58it/s]\n"
     ]
    },
    {
     "name": "stdout",
     "output_type": "stream",
     "text": [
      "Validation Accuracy           = 0.948\n",
      "Accuracy Model On Test Images = 0.925\n",
      "\n",
      "EPOCH 173\n"
     ]
    },
    {
     "name": "stderr",
     "output_type": "stream",
     "text": [
      "100%|██████████| 5710/5710 [01:16<00:00, 74.53it/s]\n"
     ]
    },
    {
     "name": "stdout",
     "output_type": "stream",
     "text": [
      "Validation Accuracy           = 0.949\n",
      "Accuracy Model On Test Images = 0.924\n",
      "\n",
      "EPOCH 174\n"
     ]
    },
    {
     "name": "stderr",
     "output_type": "stream",
     "text": [
      "100%|██████████| 5710/5710 [01:16<00:00, 75.08it/s]\n"
     ]
    },
    {
     "name": "stdout",
     "output_type": "stream",
     "text": [
      "Validation Accuracy           = 0.951\n",
      "Accuracy Model On Test Images = 0.926\n",
      "\n",
      "EPOCH 175\n"
     ]
    },
    {
     "name": "stderr",
     "output_type": "stream",
     "text": [
      "100%|██████████| 5710/5710 [01:16<00:00, 74.64it/s]\n"
     ]
    },
    {
     "name": "stdout",
     "output_type": "stream",
     "text": [
      "Validation Accuracy           = 0.950\n",
      "Accuracy Model On Test Images = 0.923\n",
      "\n",
      "EPOCH 176\n"
     ]
    },
    {
     "name": "stderr",
     "output_type": "stream",
     "text": [
      "100%|██████████| 5710/5710 [01:16<00:00, 75.09it/s]\n"
     ]
    },
    {
     "name": "stdout",
     "output_type": "stream",
     "text": [
      "Validation Accuracy           = 0.949\n",
      "Accuracy Model On Test Images = 0.923\n",
      "\n",
      "EPOCH 177\n"
     ]
    },
    {
     "name": "stderr",
     "output_type": "stream",
     "text": [
      "100%|██████████| 5710/5710 [01:16<00:00, 74.49it/s]\n"
     ]
    },
    {
     "name": "stdout",
     "output_type": "stream",
     "text": [
      "Validation Accuracy           = 0.944\n",
      "Accuracy Model On Test Images = 0.923\n",
      "\n",
      "EPOCH 178\n"
     ]
    },
    {
     "name": "stderr",
     "output_type": "stream",
     "text": [
      "100%|██████████| 5710/5710 [01:16<00:00, 74.98it/s]\n"
     ]
    },
    {
     "name": "stdout",
     "output_type": "stream",
     "text": [
      "Validation Accuracy           = 0.947\n",
      "Accuracy Model On Test Images = 0.921\n",
      "\n",
      "EPOCH 179\n"
     ]
    },
    {
     "name": "stderr",
     "output_type": "stream",
     "text": [
      "100%|██████████| 5710/5710 [01:16<00:00, 74.56it/s]\n"
     ]
    },
    {
     "name": "stdout",
     "output_type": "stream",
     "text": [
      "Validation Accuracy           = 0.947\n",
      "Accuracy Model On Test Images = 0.925\n",
      "\n",
      "EPOCH 180\n"
     ]
    },
    {
     "name": "stderr",
     "output_type": "stream",
     "text": [
      "100%|██████████| 5710/5710 [01:16<00:00, 75.04it/s]\n"
     ]
    },
    {
     "name": "stdout",
     "output_type": "stream",
     "text": [
      "Validation Accuracy           = 0.947\n",
      "Accuracy Model On Test Images = 0.925\n",
      "\n",
      "EPOCH 181\n"
     ]
    },
    {
     "name": "stderr",
     "output_type": "stream",
     "text": [
      "100%|██████████| 5710/5710 [01:16<00:00, 74.56it/s]\n"
     ]
    },
    {
     "name": "stdout",
     "output_type": "stream",
     "text": [
      "Validation Accuracy           = 0.951\n",
      "Accuracy Model On Test Images = 0.923\n",
      "\n",
      "EPOCH 182\n"
     ]
    },
    {
     "name": "stderr",
     "output_type": "stream",
     "text": [
      "100%|██████████| 5710/5710 [01:15<00:00, 75.14it/s]\n"
     ]
    },
    {
     "name": "stdout",
     "output_type": "stream",
     "text": [
      "Validation Accuracy           = 0.949\n",
      "Accuracy Model On Test Images = 0.925\n",
      "\n",
      "EPOCH 183\n"
     ]
    },
    {
     "name": "stderr",
     "output_type": "stream",
     "text": [
      "100%|██████████| 5710/5710 [01:16<00:00, 74.64it/s]\n"
     ]
    },
    {
     "name": "stdout",
     "output_type": "stream",
     "text": [
      "Validation Accuracy           = 0.945\n",
      "Accuracy Model On Test Images = 0.921\n",
      "\n",
      "EPOCH 184\n"
     ]
    },
    {
     "name": "stderr",
     "output_type": "stream",
     "text": [
      "100%|██████████| 5710/5710 [01:16<00:00, 74.99it/s]\n"
     ]
    },
    {
     "name": "stdout",
     "output_type": "stream",
     "text": [
      "Validation Accuracy           = 0.947\n",
      "Accuracy Model On Test Images = 0.921\n",
      "\n",
      "EPOCH 185\n"
     ]
    },
    {
     "name": "stderr",
     "output_type": "stream",
     "text": [
      "100%|██████████| 5710/5710 [01:16<00:00, 74.35it/s]\n"
     ]
    },
    {
     "name": "stdout",
     "output_type": "stream",
     "text": [
      "Validation Accuracy           = 0.947\n",
      "Accuracy Model On Test Images = 0.922\n",
      "\n",
      "EPOCH 186\n"
     ]
    },
    {
     "name": "stderr",
     "output_type": "stream",
     "text": [
      "100%|██████████| 5710/5710 [01:16<00:00, 75.11it/s]\n"
     ]
    },
    {
     "name": "stdout",
     "output_type": "stream",
     "text": [
      "Validation Accuracy           = 0.946\n",
      "Accuracy Model On Test Images = 0.922\n",
      "\n",
      "EPOCH 187\n"
     ]
    },
    {
     "name": "stderr",
     "output_type": "stream",
     "text": [
      "100%|██████████| 5710/5710 [01:16<00:00, 74.58it/s]\n"
     ]
    },
    {
     "name": "stdout",
     "output_type": "stream",
     "text": [
      "Validation Accuracy           = 0.942\n",
      "Accuracy Model On Test Images = 0.921\n",
      "\n",
      "EPOCH 188\n"
     ]
    },
    {
     "name": "stderr",
     "output_type": "stream",
     "text": [
      "100%|██████████| 5710/5710 [01:16<00:00, 75.03it/s]\n"
     ]
    },
    {
     "name": "stdout",
     "output_type": "stream",
     "text": [
      "Validation Accuracy           = 0.949\n",
      "Accuracy Model On Test Images = 0.926\n",
      "\n",
      "EPOCH 189\n"
     ]
    },
    {
     "name": "stderr",
     "output_type": "stream",
     "text": [
      "100%|██████████| 5710/5710 [01:16<00:00, 74.55it/s]\n"
     ]
    },
    {
     "name": "stdout",
     "output_type": "stream",
     "text": [
      "Validation Accuracy           = 0.947\n",
      "Accuracy Model On Test Images = 0.925\n",
      "\n",
      "EPOCH 190\n"
     ]
    },
    {
     "name": "stderr",
     "output_type": "stream",
     "text": [
      "100%|██████████| 5710/5710 [01:16<00:00, 74.99it/s]\n"
     ]
    },
    {
     "name": "stdout",
     "output_type": "stream",
     "text": [
      "Validation Accuracy           = 0.954\n",
      "Accuracy Model On Test Images = 0.927\n",
      "Model saved\n",
      "\n",
      "EPOCH 191\n"
     ]
    },
    {
     "name": "stderr",
     "output_type": "stream",
     "text": [
      "100%|██████████| 5710/5710 [01:16<00:00, 74.70it/s]\n"
     ]
    },
    {
     "name": "stdout",
     "output_type": "stream",
     "text": [
      "Validation Accuracy           = 0.946\n",
      "Accuracy Model On Test Images = 0.925\n",
      "\n",
      "EPOCH 192\n"
     ]
    },
    {
     "name": "stderr",
     "output_type": "stream",
     "text": [
      "100%|██████████| 5710/5710 [01:16<00:00, 74.90it/s]\n"
     ]
    },
    {
     "name": "stdout",
     "output_type": "stream",
     "text": [
      "Validation Accuracy           = 0.951\n",
      "Accuracy Model On Test Images = 0.925\n",
      "\n",
      "EPOCH 193\n"
     ]
    },
    {
     "name": "stderr",
     "output_type": "stream",
     "text": [
      "100%|██████████| 5710/5710 [01:16<00:00, 74.94it/s]\n"
     ]
    },
    {
     "name": "stdout",
     "output_type": "stream",
     "text": [
      "Validation Accuracy           = 0.946\n",
      "Accuracy Model On Test Images = 0.924\n",
      "\n",
      "EPOCH 194\n"
     ]
    },
    {
     "name": "stderr",
     "output_type": "stream",
     "text": [
      "100%|██████████| 5710/5710 [01:16<00:00, 75.05it/s]\n"
     ]
    },
    {
     "name": "stdout",
     "output_type": "stream",
     "text": [
      "Validation Accuracy           = 0.953\n",
      "Accuracy Model On Test Images = 0.925\n",
      "\n",
      "EPOCH 195\n"
     ]
    },
    {
     "name": "stderr",
     "output_type": "stream",
     "text": [
      "100%|██████████| 5710/5710 [01:16<00:00, 74.49it/s]\n"
     ]
    },
    {
     "name": "stdout",
     "output_type": "stream",
     "text": [
      "Validation Accuracy           = 0.949\n",
      "Accuracy Model On Test Images = 0.923\n",
      "\n",
      "EPOCH 196\n"
     ]
    },
    {
     "name": "stderr",
     "output_type": "stream",
     "text": [
      "100%|██████████| 5710/5710 [01:16<00:00, 74.92it/s]\n"
     ]
    },
    {
     "name": "stdout",
     "output_type": "stream",
     "text": [
      "Validation Accuracy           = 0.951\n",
      "Accuracy Model On Test Images = 0.926\n",
      "\n",
      "EPOCH 197\n"
     ]
    },
    {
     "name": "stderr",
     "output_type": "stream",
     "text": [
      "100%|██████████| 5710/5710 [01:16<00:00, 74.64it/s]\n"
     ]
    },
    {
     "name": "stdout",
     "output_type": "stream",
     "text": [
      "Validation Accuracy           = 0.951\n",
      "Accuracy Model On Test Images = 0.926\n",
      "\n",
      "EPOCH 198\n"
     ]
    },
    {
     "name": "stderr",
     "output_type": "stream",
     "text": [
      "100%|██████████| 5710/5710 [01:16<00:00, 75.00it/s]\n"
     ]
    },
    {
     "name": "stdout",
     "output_type": "stream",
     "text": [
      "Validation Accuracy           = 0.949\n",
      "Accuracy Model On Test Images = 0.925\n",
      "\n",
      "EPOCH 199\n"
     ]
    },
    {
     "name": "stderr",
     "output_type": "stream",
     "text": [
      "100%|██████████| 5710/5710 [01:16<00:00, 74.57it/s]\n"
     ]
    },
    {
     "name": "stdout",
     "output_type": "stream",
     "text": [
      "Validation Accuracy           = 0.951\n",
      "Accuracy Model On Test Images = 0.923\n",
      "\n",
      "EPOCH 200\n"
     ]
    },
    {
     "name": "stderr",
     "output_type": "stream",
     "text": [
      "100%|██████████| 5710/5710 [01:16<00:00, 75.03it/s]\n"
     ]
    },
    {
     "name": "stdout",
     "output_type": "stream",
     "text": [
      "Validation Accuracy           = 0.951\n",
      "Accuracy Model On Test Images = 0.923\n",
      "\n",
      "Finish the tranning\n",
      "Final Validation Accuracy           = 0.954\n"
     ]
    }
   ],
   "source": [
    "from tqdm import tqdm\n",
    "X_train = X_train_transf\n",
    "X_valid = X_valid_transf\n",
    "X_test = X_test_transf\n",
    "y_train = y_train_transf\n",
    "max_val = 0\n",
    "\n",
    "with tf.Session() as sess:\n",
    "    sess.run(tf.global_variables_initializer())\n",
    "    num_examples = len(X_train)\n",
    "    \n",
    "    print(\"Training...\")\n",
    "    print()\n",
    "    for i in (range(EPOCHS)):\n",
    "        print(\"EPOCH \" + str(i+1))\n",
    "        X_train, y_train = shuffle(X_train, y_train)\n",
    "        for offset in tqdm(range(0, len(X_train), BATCH_SIZE)):\n",
    "            end = offset + BATCH_SIZE\n",
    "            batch_x, batch_y = X_train[offset:end], y_train[offset:end]\n",
    "            sess.run(training_operation, feed_dict={x: batch_x, y: batch_y,keep_prob: 0.7})\n",
    "            #break\n",
    "         \n",
    "        validation_accuracy = evaluate(X_valid, y_validation)\n",
    "        #training_accuracy   = evaluate(X_train, y_train)\n",
    "        #print(\"Training Accuracy             = {:.3f}\".format(training_accuracy))\n",
    "        print(\"Validation Accuracy           = {:.3f}\".format(validation_accuracy))\n",
    "        print(\"Accuracy Model On Test Images = {:.3f}\".format(evaluate(X_test,y_test)))\n",
    "        \n",
    "        if max_val < validation_accuracy:\n",
    "            max_val = validation_accuracy\n",
    "            saver.save(sess, './model/lenet')\n",
    "            print(\"Model saved\")\n",
    "        print()\n",
    "    print(\"Finish the tranning\")\n",
    "    print(\"Final Validation Accuracy           = {:.3f}\".format(max_val))"
   ]
  },
  {
   "cell_type": "markdown",
   "metadata": {},
   "source": [
    "## Validation accuracy improved to 0.954"
   ]
  },
  {
   "cell_type": "markdown",
   "metadata": {},
   "source": [
    "## Result  Model Result on the given data\n",
    "**Accuracy Model On Train Images = 0.982**\n",
    "\n",
    "**Accuracy Model On validation Images = 0.954**\n",
    "\n",
    "**Accuracy Model On Test Images = 0.927**"
   ]
  },
  {
   "cell_type": "code",
   "execution_count": 79,
   "metadata": {},
   "outputs": [
    {
     "name": "stderr",
     "output_type": "stream",
     "text": [
      "100%|██████████| 34799/34799 [00:02<00:00, 14746.29it/s]\n",
      "100%|██████████| 4410/4410 [00:00<00:00, 14592.05it/s]\n",
      "100%|██████████| 12630/12630 [00:00<00:00, 14756.78it/s]\n"
     ]
    }
   ],
   "source": [
    "from tqdm import tqdm\n",
    "\n",
    "with open(training_file, mode='rb') as f:\n",
    "    train = pickle.load(f)\n",
    "with open(validation_file, mode='rb') as f:\n",
    "    valid = pickle.load(f)\n",
    "with open(testing_file, mode='rb') as f:\n",
    "    test = pickle.load(f)\n",
    "    \n",
    "X_train_lastCheck, y_train_lastCheck = train['features'], train['labels']\n",
    "X_validation_lastCheck, y_validation_lastCheck = valid['features'], valid['labels']\n",
    "X_test_lastCheck, y_test_lastCheck = test['features'], test['labels']\n",
    "\n",
    "X_train_test_lastCheck      = []\n",
    "X_validation_test_lastCheck = []\n",
    "X_test_test_lastCheck       = []\n",
    "\n",
    "for ii in tqdm(range(X_train_lastCheck.shape[0])):\n",
    "    img = X_train_lastCheck[ii]\n",
    "    img = transform_img(img)\n",
    "    img.shape = (1,) + img.shape + (1,)\n",
    "    X_train_test_lastCheck.append(img)\n",
    "    \n",
    "for ii in tqdm(range(X_validation_lastCheck.shape[0])):\n",
    "    img = X_validation_lastCheck[ii]\n",
    "    img = transform_img(img)\n",
    "    img.shape = (1,) + img.shape + (1,)\n",
    "    X_validation_test_lastCheck.append(img)    \n",
    "\n",
    "for ii in tqdm(range(X_test_lastCheck.shape[0])):\n",
    "    img = X_test_lastCheck[ii]\n",
    "    img = transform_img(img)\n",
    "    img.shape = (1,) + img.shape + (1,)\n",
    "    X_test_test_lastCheck.append(img) \n",
    "    \n",
    "X_train_test_lastCheck      = np.concatenate(X_train_test_lastCheck,axis=0)\n",
    "X_validation_test_lastCheck = np.concatenate(X_validation_test_lastCheck,axis=0)\n",
    "X_test_test_lastCheck       = np.concatenate(X_test_test_lastCheck,axis=0)\n",
    "\n"
   ]
  },
  {
   "cell_type": "code",
   "execution_count": 80,
   "metadata": {
    "scrolled": true
   },
   "outputs": [
    {
     "name": "stderr",
     "output_type": "stream",
     "text": [
      "/home/liangxu/anaconda3/envs/carnd-term1-gpu/lib/python3.5/site-packages/skimage/transform/_warps.py:84: UserWarning: The default mode, 'constant', will be changed to 'reflect' in skimage 0.15.\n",
      "  warn(\"The default mode, 'constant', will be changed to 'reflect' in \"\n",
      "/home/liangxu/anaconda3/envs/carnd-term1-gpu/lib/python3.5/site-packages/skimage/transform/_warps.py:84: UserWarning: The default mode, 'constant', will be changed to 'reflect' in skimage 0.15.\n",
      "  warn(\"The default mode, 'constant', will be changed to 'reflect' in \"\n",
      "/home/liangxu/anaconda3/envs/carnd-term1-gpu/lib/python3.5/site-packages/skimage/transform/_warps.py:84: UserWarning: The default mode, 'constant', will be changed to 'reflect' in skimage 0.15.\n",
      "  warn(\"The default mode, 'constant', will be changed to 'reflect' in \"\n",
      "/home/liangxu/anaconda3/envs/carnd-term1-gpu/lib/python3.5/site-packages/skimage/transform/_warps.py:84: UserWarning: The default mode, 'constant', will be changed to 'reflect' in skimage 0.15.\n",
      "  warn(\"The default mode, 'constant', will be changed to 'reflect' in \"\n",
      "/home/liangxu/anaconda3/envs/carnd-term1-gpu/lib/python3.5/site-packages/skimage/transform/_warps.py:84: UserWarning: The default mode, 'constant', will be changed to 'reflect' in skimage 0.15.\n",
      "  warn(\"The default mode, 'constant', will be changed to 'reflect' in \"\n"
     ]
    },
    {
     "name": "stdout",
     "output_type": "stream",
     "text": [
      "extra_data/11.png\n",
      "extra_data/14.png\n",
      "extra_data/35.png\n",
      "extra_data/1.png\n",
      "extra_data/17.png\n",
      "Accuracy Model On Train Images = 0.982\n",
      "Accuracy Model On validation Images = 0.954\n",
      "Accuracy Model On Test Images = 0.927\n"
     ]
    }
   ],
   "source": [
    "import skimage\n",
    "from skimage import io\n",
    "from skimage import transform\n",
    "from skimage.filters import gaussian\n",
    "import glob\n",
    "\n",
    "def transform_test_image(img_in):\n",
    "    img_in = img_in.copy()\n",
    "    img_out= sharpen_img(img_in)\n",
    "    img_out = cv2.cvtColor(img_in, cv2.COLOR_RGB2YUV)\n",
    "    img_out[:,:,0] = cv2.equalizeHist(img_out[:,:,0])\n",
    "    return img_out[:,:,0]\n",
    "\n",
    "test_image = list()\n",
    "test_image_lable = list()\n",
    "for lable in os.listdir(Image_Folder):\n",
    "    fileName = Image_Folder + lable\n",
    "    img = skimage.io.imread(fileName)\n",
    "    img = transform.resize(img,(32,32), order=3)\n",
    "    img = gaussian(img,.6,multichannel=True)*255\n",
    "    img = transform_img(img.astype(np.uint8))\n",
    "    img.shape = (1,) + img.shape + ( 1,)\n",
    "    test_image.append(img)\n",
    "    test_image_lable.append(os.path.splitext(lable)[0])\n",
    "    print(fileName)\n",
    "\n",
    "images = np.concatenate(test_image,axis=0)\n",
    "with tf.Session() as sess:\n",
    "    sess.run(tf.global_variables_initializer())\n",
    "    saver.restore(sess, tf.train.latest_checkpoint('./model/'))\n",
    "    print(\"Accuracy Model On Train Images = {:.3f}\".format(evaluate(X_train_test_lastCheck,y_train_lastCheck)))\n",
    "    print(\"Accuracy Model On validation Images = {:.3f}\".format(evaluate(X_validation_test,y_validation_lastCheck)))\n",
    "    print(\"Accuracy Model On Test Images = {:.3f}\".format(evaluate(X_test_test,y_test_lastCheck)))\n",
    "    predicted_proba = predict(images)\n",
    "    #print(predicted_proba)\n"
   ]
  },
  {
   "cell_type": "markdown",
   "metadata": {},
   "source": [
    "### Analyze Performance"
   ]
  },
  {
   "cell_type": "code",
   "execution_count": 17,
   "metadata": {},
   "outputs": [
    {
     "data": {
      "image/png": "[encoded data removed]",
      "text/plain": [
       "<matplotlib.figure.Figure at 0x7f3154622a90>"
      ]
     },
     "metadata": {},
     "output_type": "display_data"
    },
    {
     "data": {
      "image/png": "[encoded data removed]",
      "text/plain": [
       "<matplotlib.figure.Figure at 0x7f31545b1518>"
      ]
     },
     "metadata": {},
     "output_type": "display_data"
    }
   ],
   "source": [
    "### Calculate the accuracy for these 5 new images. \n",
    "### For example, if the model predicted 1 out of 5 signs correctly, it's 20% accurate on these new images.\n",
    "import os\n",
    "import scipy.misc\n",
    "\n",
    "Image_Folder = \"extra_data/\"\n",
    "\n",
    "def resize_image(image_file):\n",
    "    image = plt.imread(Image_Folder + image_file)\n",
    "    return scipy.misc.imresize(image, (32, 32))\n",
    "\n",
    "resized_image_data = [(resize_image(image), image[:-4]) for image in os.listdir(Image_Folder)]\n",
    "def display_images(imgs_data):\n",
    "    index = 1\n",
    "    plt.figure(figsize=(15,10))\n",
    "    for img, name in imgs_data:\n",
    "        plt.subplot(1, 6, index)\n",
    "        plt.imshow(img)\n",
    "\n",
    "        plt.axis('off')\n",
    "        index += 1\n",
    "    plt.show()\n",
    "    \n",
    "display_images(resized_image_data)\n",
    "def display_images2(imgs_data):\n",
    "    index = 1\n",
    "    plt.figure(figsize=(15,10))\n",
    "    for img, name in imgs_data:\n",
    "        plt.subplot(2, 6, index)\n",
    "        plt.imshow(transform_img(img))\n",
    "        plt.axis('off')\n",
    "        index += 1\n",
    "    plt.show()\n",
    "\n",
    "display_images2(resized_image_data)\n"
   ]
  },
  {
   "cell_type": "code",
   "execution_count": 284,
   "metadata": {},
   "outputs": [
    {
     "data": {
      "image/png": "[encoded data removed]",
      "text/plain": [
       "<matplotlib.figure.Figure at 0x7fc62d7469b0>"
      ]
     },
     "metadata": {},
     "output_type": "display_data"
    },
    {
     "data": {
      "image/png": "[encoded data removed]",
      "text/plain": [
       "<matplotlib.figure.Figure at 0x7fc634428860>"
      ]
     },
     "metadata": {},
     "output_type": "display_data"
    },
    {
     "data": {
      "image/png": "[encoded data removed]",
      "text/plain": [
       "<matplotlib.figure.Figure at 0x7fc62e519fd0>"
      ]
     },
     "metadata": {},
     "output_type": "display_data"
    },
    {
     "data": {
      "image/png": "[encoded data removed]",
      "text/plain": [
       "<matplotlib.figure.Figure at 0x7fc639e8ae80>"
      ]
     },
     "metadata": {},
     "output_type": "display_data"
    },
    {
     "data": {
      "image/png": "[encoded data removed]",
      "text/plain": [
       "<matplotlib.figure.Figure at 0x7fc63b8e7dd8>"
      ]
     },
     "metadata": {},
     "output_type": "display_data"
    }
   ],
   "source": [
    "\n",
    "def display_images_translation(imgs_data):\n",
    "    index = 1\n",
    "    plt.figure(figsize=(15,10))\n",
    "    \n",
    "    for img, name in imgs_data:\n",
    "        plt.subplot(2, 6, index)\n",
    "        plt.imshow(image_translate(img))\n",
    "        \n",
    "        plt.axis('off')\n",
    "        index += 1\n",
    "    plt.title('image_translate')\n",
    "    plt.show()\n",
    "    \n",
    "def display_images_rotate(imgs_data):\n",
    "    index = 1\n",
    "    plt.figure(figsize=(15,10))\n",
    "    for img, name in imgs_data:\n",
    "        plt.subplot(2, 6, index)\n",
    "        plt.imshow(image_rotate(img))\n",
    "        plt.axis('off')\n",
    "        index += 1\n",
    "    plt.title('image_rotate')\n",
    "    plt.show()\n",
    "def display_image_shear(imgs_data):\n",
    "    index = 1\n",
    "    plt.figure(figsize=(15,10))\n",
    "    for img, name in imgs_data:\n",
    "        plt.subplot(2, 6, index)\n",
    "        plt.imshow(image_shear(img))\n",
    "        plt.axis('off')\n",
    "        index += 1\n",
    "    plt.title('image_shear')\n",
    "    plt.show()\n",
    "def display_image_gamma(imgs_data):\n",
    "    index = 1\n",
    "    plt.figure(figsize=(15,10))\n",
    "    for img, name in imgs_data:\n",
    "        plt.subplot(2, 6, index)\n",
    "        plt.imshow(image_gamma(img))\n",
    "        plt.axis('off')\n",
    "        index += 1\n",
    "    plt.title('image_gamma')\n",
    "    plt.show()\n",
    "def display_image_blur(imgs_data):\n",
    "    index = 1\n",
    "    plt.figure(figsize=(15,10))\n",
    "    for img, name in imgs_data:\n",
    "        plt.title('image_blur')\n",
    "        plt.subplot(2, 6, index)\n",
    "        plt.imshow(image_blur(img))\n",
    "        plt.axis('off')\n",
    "        index += 1\n",
    "    \n",
    "    plt.show()\n",
    "display_images_translation(resized_image_data)\n",
    "display_images_rotate(resized_image_data)\n",
    "display_image_shear(resized_image_data)\n",
    "display_image_gamma(resized_image_data)\n",
    "display_image_blur(resized_image_data)\n"
   ]
  },
  {
   "cell_type": "markdown",
   "metadata": {},
   "source": [
    "## Question 6: \n",
    "Choose five candidate images of traffic signs and provide them in the report. Are there any particular qualities of the image(s) that might make classification difficult? It could be helpful to plot the images in the notebook.\n",
    "\n",
    "**Answer** The traffice are download from the web, there are not from the data sets.\n"
   ]
  },
  {
   "cell_type": "markdown",
   "metadata": {},
   "source": [
    "### Output Top 5 Softmax Probabilities For Each Image Found on the Web"
   ]
  },
  {
   "cell_type": "code",
   "execution_count": 84,
   "metadata": {},
   "outputs": [
    {
     "name": "stdout",
     "output_type": "stream",
     "text": [
      "Top 5 Labels ------> \"Right-of-way at the next intersection\":\n",
      " - 'Right-of-way at the next intersection' with prob = 0.96756 \n",
      " - 'Beware of ice/snow' with prob = 0.03173 \n",
      " - 'Road work' with prob = 0.00022 \n",
      " - 'Double curve' with prob = 0.00021 \n",
      " - 'Children crossing' with prob = 0.00016 \n",
      "\n",
      "Top 5 Labels ------> \"Stop\":\n",
      " - 'Stop' with prob = 0.84335 \n",
      " - 'Roundabout mandatory' with prob = 0.09127 \n",
      " - 'Keep right' with prob = 0.02986 \n",
      " - 'Keep left' with prob = 0.01187 \n",
      " - 'Turn right ahead' with prob = 0.00789 \n",
      "\n",
      "Top 5 Labels ------> \"Ahead only\":\n",
      " - 'Ahead only' with prob = 0.40103 \n",
      " - 'Yield' with prob = 0.11454 \n",
      " - 'Priority road' with prob = 0.06607 \n",
      " - 'Go straight or right' with prob = 0.04422 \n",
      " - 'Turn right ahead' with prob = 0.04275 \n",
      "\n",
      "Top 5 Labels ------> \"Speed limit (30km/h)\":\n",
      " - 'Speed limit (50km/h)' with prob = 0.97408 \n",
      " - 'Speed limit (30km/h)' with prob = 0.02543 \n",
      " - 'Speed limit (60km/h)' with prob = 0.00026 \n",
      " - 'Speed limit (80km/h)' with prob = 0.00011 \n",
      " - 'Speed limit (20km/h)' with prob = 0.00011 \n",
      "\n",
      "Top 5 Labels ------> \"No entry\":\n",
      " - 'No entry' with prob = 0.98171 \n",
      " - 'Priority road' with prob = 0.01794 \n",
      " - 'Go straight or left' with prob = 0.00014 \n",
      " - 'Ahead only' with prob = 0.00008 \n",
      " - 'Turn right ahead' with prob = 0.00005 \n",
      "\n"
     ]
    }
   ],
   "source": [
    "\n",
    "\n",
    "signnames = pd.read_csv('./signnames.csv')\n",
    "signnames.set_index('ClassId',inplace=True)\n",
    "\n",
    "for true_label,row in zip(test_image_lable,predicted_proba):\n",
    "    top5k = np.argsort(row)[::-1][:5]\n",
    "    top5p = np.sort(row)[::-1][:5]\n",
    "    print('Top 5 Labels ------> \\\"{}\\\":'.format(signnames.loc[int(true_label)].SignName))\n",
    "    for k,p in zip(top5k,top5p):\n",
    "          print(' - \\'{}\\' with prob = {:.5f} '.format(signnames.loc[k].SignName,p))\n",
    "    print()"
   ]
  },
  {
   "cell_type": "markdown",
   "metadata": {},
   "source": [
    "### Project Writeup\n",
    "\n",
    "Once you have completed the code implementation, document your results in a project writeup using this [template](https://github.com/udacity/CarND-Traffic-Sign-Classifier-Project/blob/master/writeup_template.md) as a guide. The writeup can be in a markdown or pdf file. "
   ]
  },
  {
   "cell_type": "markdown",
   "metadata": {},
   "source": [
    "> **Note**: Once you have completed all of the code implementations and successfully answered each question above, you may finalize your work by exporting the iPython Notebook as an HTML document. You can do this by using the menu above and navigating to  \\n\",\n",
    "    \"**File -> Download as -> HTML (.html)**. Include the finished document along with this notebook as your submission."
   ]
  }
 ],
 "metadata": {
  "anaconda-cloud": {},
  "kernelspec": {
   "display_name": "Python 3",
   "language": "python",
   "name": "python3"
  },
  "language_info": {
   "codemirror_mode": {
    "name": "ipython",
    "version": 3
   },
   "file_extension": ".py",
   "mimetype": "text/x-python",
   "name": "python",
   "nbconvert_exporter": "python",
   "pygments_lexer": "ipython3",
   "version": "3.5.2"
  },
  "widgets": {
   "state": {},
   "version": "1.1.2"
  }
 },
 "nbformat": 4,
 "nbformat_minor": 1
}
