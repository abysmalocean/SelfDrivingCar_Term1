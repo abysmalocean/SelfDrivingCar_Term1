{
 "cells": [
  {
   "cell_type": "code",
   "execution_count": 44,
   "metadata": {},
   "outputs": [],
   "source": [
    "import numpy as np\n",
    "from sklearn.model_selection import train_test_split\n",
    "from keras.models import Sequential\n",
    "from keras.optimizers import Adam\n",
    "from keras.layers import Lambda, Conv2D, MaxPooling2D, Dropout, Dense, Flatten\n",
    "from keras.layers.convolutional import Convolution2D\n",
    "import tqdm\n",
    "import pandas as pd\n",
    "import os\n",
    "import cv2"
   ]
  },
  {
   "cell_type": "code",
   "execution_count": 46,
   "metadata": {},
   "outputs": [],
   "source": [
    "Center_image = 0\n",
    "Left_image = 1\n",
    "Right_iamge = 2\n",
    "Steering_angle = 3\n",
    "INPUT_SHAPE = (64, 64, 3)\n",
    "learning_rate = 0.001\n",
    "BATCH_SIZE = 32\n",
    "EPOCHS = 50"
   ]
  },
  {
   "cell_type": "code",
   "execution_count": 32,
   "metadata": {},
   "outputs": [],
   "source": [
    "def loadImage(path = \"../data/driving_log.csv\"):\n",
    "    '''\n",
    "    this fun is used for load the traning data from the tranning image folder and rade the csv file\n",
    "    output is the trining files name and according steering value.\n",
    "    '''\n",
    "    # loand the csv file\n",
    "    driving_data = pd.read_csv(path,header=None)\n",
    "    #print(driving_data.describe())\n",
    "    \n",
    "    # assign x and y\n",
    "    \n",
    "    X = driving_data[[Center_image, Left_image, Right_iamge]].values\n",
    "    y = driving_data[Steering_angle].values\n",
    "    X_train, X_valid, y_train, y_valid = train_test_split(X, y, test_size=0.2)\n",
    "    \n",
    "    return X_train, X_valid, y_train, y_valid"
   ]
  },
  {
   "cell_type": "code",
   "execution_count": null,
   "metadata": {},
   "outputs": [],
   "source": [
    "def argument(image, angle,top = 60, bottom = 25,resize = INPUT_SHAPE):\n",
    "    image = crop(image, top, bottom)\n",
    "    image, angle = crop(image, angle)\n",
    "    image = scipy.misc.imresize(image, resize)\n",
    "    \n",
    "    \n",
    "    \n",
    "    "
   ]
  },
  {
   "cell_type": "code",
   "execution_count": 37,
   "metadata": {},
   "outputs": [],
   "source": [
    "def crop(image, top = 60, bottom = 25):\n",
    "    # Crop the image, remove the top sky and the front of the care\n",
    "    return image[top:-bottom, :, :]"
   ]
  },
  {
   "cell_type": "code",
   "execution_count": 38,
   "metadata": {},
   "outputs": [],
   "source": [
    "def flip(image, angle, prob=0.5):\n",
    "    coin = bernoulli.rvs(prob)\n",
    "    if coin: \n",
    "        return np.fliplr(image), -angle\n",
    "    return image, angle"
   ]
  },
  {
   "cell_type": "code",
   "execution_count": 36,
   "metadata": {},
   "outputs": [],
   "source": [
    "def generator(X,y, batch_size=32, angle_argument = 0.22):\n",
    "    \n",
    "    num_samples = len(X)\n",
    "    while 1: # Loop forever so the generator never terminates\n",
    "        batch_i = 0\n",
    "        images = []\n",
    "        angles = []\n",
    "        \n",
    "        for i in np.random.permutation(X.shape[0]):\n",
    "            Center, Left, Right = X[i]\n",
    "            angle = y[i]\n",
    "            \n",
    "            random_img = np.random.randint(0, 3)\n",
    "            if random_img == Center_image:\n",
    "                name = './IMG/'+Center.split('/')\n",
    "                angle = float(angle)\n",
    "            elif random_img == Left_image:\n",
    "                name = './IMG/'+Left.split('/')\n",
    "                angle = float(angle) + angle_argument\n",
    "            elif random_img == Right_iamge:\n",
    "                name = './IMG/'+Right.split('/')\n",
    "                angle = float(angle) - angle_argument\n",
    "            \n",
    "            image = cv2.imread(name)\n",
    "            image = argument(image, angle)\n",
    "            \n",
    "            images.append(image)\n",
    "            angles.append(angle)\n",
    "\n",
    "        # trim image to only see section with road\n",
    "        X_train = np.array(images)\n",
    "        y_train = np.array(angles)\n",
    "        yield X_train, y_train"
   ]
  },
  {
   "cell_type": "code",
   "execution_count": 53,
   "metadata": {},
   "outputs": [],
   "source": [
    "def model():\n",
    "    model = Sequential()\n",
    "    model.add(Lambda(lambda x: x / 127.5 - 1.0, input_shape=INPUT_SHAPE))\n",
    "    \n",
    "    model.add(Convolution2D(24, 5, 5,activation='relu', border_mode='same',subsample=(2, 2),name='conv1'))\n",
    "    model.add(Convolution2D(36, 5, 5,activation='relu', border_mode='same',subsample=(2, 2),name='conv2'))\n",
    "    model.add(Convolution2D(48, 5, 5,activation='relu', border_mode='same',subsample=(2, 2),name='conv3'))\n",
    "    model.add(Convolution2D(64, 3, 3,activation='relu', border_mode='same',subsample=(1, 1),name='conv4'))\n",
    "    model.add(MaxPooling2D(pool_size=(2, 2), strides=(1, 1),name='MaxPooling1'))\n",
    "    model.add(Convolution2D(64, 3, 3,activation='relu', border_mode='same',subsample=(1, 1),name='conv5'))\n",
    "    model.add(MaxPooling2D(pool_size=(2, 2), strides=(1, 1),name='MaxPooling2'))\n",
    "    \n",
    "    model.add(Flatten(name='flatten'))\n",
    "    model.add(Dense(1164, activation='relu',name='Dense1'))\n",
    "    model.add(Dense(100 , activation='relu',name='Dense2'))\n",
    "    model.add(Dense(50  , activation='relu',name='Dense3'))\n",
    "    model.add(Dense(10  , activation='relu',name='Dense4'))\n",
    "    model.add(Dense(1   , activation='relu',name='Dense5'))\n",
    "    model.compile(loss='binary_crossentropy', optimizer=Adam(lr=learning_rate),metrics=['accuracy'])\n",
    "    return model\n"
   ]
  },
  {
   "cell_type": "code",
   "execution_count": 55,
   "metadata": {},
   "outputs": [],
   "source": [
    "def train(model,X_train, X_valid, y_train, y_valid):\n",
    "    model.fit_generator(generator(X_train,y_train, batch_size=BATCH_SIZE, angle_argument = 0.22),\n",
    "                        steps_per_epoch=X_train.shape[0] // BATCH_SIZE,\n",
    "                        epochs=EPOCHS,)\n",
    "    "
   ]
  },
  {
   "cell_type": "code",
   "execution_count": 56,
   "metadata": {},
   "outputs": [
    {
     "name": "stdout",
     "output_type": "stream",
     "text": [
      "____________________________________________________________________________________________________\n",
      "Layer (type)                     Output Shape          Param #     Connected to                     \n",
      "====================================================================================================\n",
      "lambda_4 (Lambda)                (None, 64, 64, 3)     0           lambda_input_4[0][0]             \n",
      "____________________________________________________________________________________________________\n",
      "conv1 (Convolution2D)            (None, 32, 32, 24)    1824        lambda_4[0][0]                   \n",
      "____________________________________________________________________________________________________\n",
      "conv2 (Convolution2D)            (None, 16, 16, 36)    21636       conv1[0][0]                      \n",
      "____________________________________________________________________________________________________\n",
      "conv3 (Convolution2D)            (None, 8, 8, 48)      43248       conv2[0][0]                      \n",
      "____________________________________________________________________________________________________\n",
      "conv4 (Convolution2D)            (None, 8, 8, 64)      27712       conv3[0][0]                      \n",
      "____________________________________________________________________________________________________\n",
      "MaxPooling1 (MaxPooling2D)       (None, 7, 7, 64)      0           conv4[0][0]                      \n",
      "____________________________________________________________________________________________________\n",
      "conv5 (Convolution2D)            (None, 7, 7, 64)      36928       MaxPooling1[0][0]                \n",
      "____________________________________________________________________________________________________\n",
      "MaxPooling2 (MaxPooling2D)       (None, 6, 6, 64)      0           conv5[0][0]                      \n",
      "____________________________________________________________________________________________________\n",
      "flatten (Flatten)                (None, 2304)          0           MaxPooling2[0][0]                \n",
      "____________________________________________________________________________________________________\n",
      "Dense1 (Dense)                   (None, 1164)          2683020     flatten[0][0]                    \n",
      "____________________________________________________________________________________________________\n",
      "Dense2 (Dense)                   (None, 100)           116500      Dense1[0][0]                     \n",
      "____________________________________________________________________________________________________\n",
      "Dense3 (Dense)                   (None, 50)            5050        Dense2[0][0]                     \n",
      "____________________________________________________________________________________________________\n",
      "Dense4 (Dense)                   (None, 10)            510         Dense3[0][0]                     \n",
      "____________________________________________________________________________________________________\n",
      "Dense5 (Dense)                   (None, 1)             11          Dense4[0][0]                     \n",
      "====================================================================================================\n",
      "Total params: 2,936,439\n",
      "Trainable params: 2,936,439\n",
      "Non-trainable params: 0\n",
      "____________________________________________________________________________________________________\n",
      "Liang Xu\n",
      "Liang Xu\n"
     ]
    }
   ],
   "source": [
    "X_train, X_valid, y_train, y_valid = loadImage()\n",
    "model =model()\n",
    "model.summary()\n",
    "train(model,X_train, X_valid, y_train, y_valid)\n",
    "print(\"Liang Xu\")\n"
   ]
  }
 ],
 "metadata": {
  "kernelspec": {
   "display_name": "Python 3",
   "language": "python",
   "name": "python3"
  },
  "language_info": {
   "codemirror_mode": {
    "name": "ipython",
    "version": 3
   },
   "file_extension": ".py",
   "mimetype": "text/x-python",
   "name": "python",
   "nbconvert_exporter": "python",
   "pygments_lexer": "ipython3",
   "version": "3.5.2"
  },
  "widgets": {
   "state": {},
   "version": "1.1.2"
  }
 },
 "nbformat": 4,
 "nbformat_minor": 2
}
