{
 "cells": [
  {
   "cell_type": "code",
   "execution_count": 91,
   "metadata": {},
   "outputs": [],
   "source": [
    "import numpy as np\n",
    "from sklearn.model_selection import train_test_split\n",
    "from keras.models import Sequential\n",
    "from keras.optimizers import Adam\n",
    "from keras.layers import Lambda, Conv2D, MaxPooling2D, Dropout, Dense, Flatten\n",
    "from keras.layers.convolutional import Convolution2D\n",
    "from keras.callbacks import ModelCheckpoint\n",
    "import tqdm\n",
    "import pandas as pd\n",
    "import os\n",
    "import cv2"
   ]
  },
  {
   "cell_type": "code",
   "execution_count": 92,
   "metadata": {},
   "outputs": [],
   "source": [
    "Center_image = 0\n",
    "Left_image = 1\n",
    "Right_iamge = 2\n",
    "Steering_angle = 3\n",
    "INPUT_SHAPE = (64, 64, 3)\n",
    "learning_rate = 0.001\n",
    "BATCH_SIZE = 32\n",
    "EPOCHS = 50"
   ]
  },
  {
   "cell_type": "code",
   "execution_count": 93,
   "metadata": {},
   "outputs": [],
   "source": [
    "def loadImage(path = \"../data/driving_log.csv\"):\n",
    "    '''\n",
    "    this fun is used for load the traning data from the tranning image folder and rade the csv file\n",
    "    output is the trining files name and according steering value.\n",
    "    '''\n",
    "    # loand the csv file\n",
    "    driving_data = pd.read_csv(path,header=None)\n",
    "    #print(driving_data.describe())\n",
    "    \n",
    "    # assign x and y\n",
    "    \n",
    "    X = driving_data[[Center_image, Left_image, Right_iamge]].values\n",
    "    y = driving_data[Steering_angle].values\n",
    "    X_train, X_valid, y_train, y_valid = train_test_split(X, y, test_size=0.2)\n",
    "    \n",
    "    return X_train, X_valid, y_train, y_valid"
   ]
  },
  {
   "cell_type": "code",
   "execution_count": 94,
   "metadata": {},
   "outputs": [],
   "source": [
    "def argument(image, angle,top = 60, bottom = 25,resize = INPUT_SHAPE):\n",
    "    image = crop(image, top, bottom)\n",
    "    image, angle = crop(image, angle)\n",
    "    image = scipy.misc.imresize(image, resize)\n",
    "    \n",
    "    \n",
    "    \n",
    "    "
   ]
  },
  {
   "cell_type": "code",
   "execution_count": 95,
   "metadata": {},
   "outputs": [],
   "source": [
    "def crop(image, top = 60, bottom = 25):\n",
    "    # Crop the image, remove the top sky and the front of the care\n",
    "    return image[top:-bottom, :, :]"
   ]
  },
  {
   "cell_type": "code",
   "execution_count": 96,
   "metadata": {},
   "outputs": [],
   "source": [
    "def flip(image, angle, prob=0.5):\n",
    "    coin = bernoulli.rvs(prob)\n",
    "    if coin: \n",
    "        return np.fliplr(image), -angle\n",
    "    return image, angle"
   ]
  },
  {
   "cell_type": "code",
   "execution_count": 97,
   "metadata": {},
   "outputs": [],
   "source": [
    "def generator(X,y, batch_size=32, angle_argument = 0.22):\n",
    "    \n",
    "    num_samples = len(X)\n",
    "    while 1: # Loop forever so the generator never terminates\n",
    "        batch_i = 0\n",
    "        images = []\n",
    "        angles = []\n",
    "        \n",
    "        for i in np.random.permutation(X.shape[0]):\n",
    "            Center, Left, Right = X[i]\n",
    "            angle = y[i]\n",
    "            \n",
    "            random_img = np.random.randint(0, 3)\n",
    "            if random_img == Center_image:\n",
    "                name = './IMG/'+Center.split('/')\n",
    "                angle = float(angle)\n",
    "            elif random_img == Left_image:\n",
    "                name = './IMG/'+Left.split('/')\n",
    "                angle = float(angle) + angle_argument\n",
    "            elif random_img == Right_iamge:\n",
    "                name = './IMG/'+Right.split('/')\n",
    "                angle = float(angle) - angle_argument\n",
    "            \n",
    "            image = cv2.imread(name)\n",
    "            image = argument(image, angle)\n",
    "            \n",
    "            images.append(image)\n",
    "            angles.append(angle)\n",
    "\n",
    "        # trim image to only see section with road\n",
    "        X_train = np.array(images)\n",
    "        y_train = np.array(angles)\n",
    "        yield X_train, y_train"
   ]
  },
  {
   "cell_type": "code",
   "execution_count": 98,
   "metadata": {},
   "outputs": [],
   "source": [
    "def model():\n",
    "    model = Sequential()\n",
    "    model.add(Lambda(lambda x: x / 127.5 - 1.0, input_shape=INPUT_SHAPE))\n",
    "    \n",
    "    model.add(Convolution2D(24, 5, 5,activation='relu', border_mode='same',subsample=(2, 2),name='conv1'))\n",
    "    model.add(Convolution2D(36, 5, 5,activation='relu', border_mode='same',subsample=(2, 2),name='conv2'))\n",
    "    model.add(Convolution2D(48, 5, 5,activation='relu', border_mode='same',subsample=(2, 2),name='conv3'))\n",
    "    model.add(Convolution2D(64, 3, 3,activation='relu', border_mode='same',subsample=(1, 1),name='conv4'))\n",
    "    model.add(MaxPooling2D(pool_size=(2, 2), strides=(1, 1),name='MaxPooling1'))\n",
    "    model.add(Convolution2D(64, 3, 3,activation='relu', border_mode='same',subsample=(1, 1),name='conv5'))\n",
    "    model.add(MaxPooling2D(pool_size=(2, 2), strides=(1, 1),name='MaxPooling2'))\n",
    "    \n",
    "    model.add(Flatten(name='flatten'))\n",
    "    model.add(Dense(1164, activation='relu',name='Dense1'))\n",
    "    model.add(Dense(100 , activation='relu',name='Dense2'))\n",
    "    model.add(Dense(50  , activation='relu',name='Dense3'))\n",
    "    model.add(Dense(10  , activation='relu',name='Dense4'))\n",
    "    model.add(Dense(1   , activation='relu',name='Dense5'))\n",
    "    model.compile(loss='binary_crossentropy', optimizer=Adam(lr=learning_rate),metrics=['accuracy'])\n",
    "    return model\n"
   ]
  },
  {
   "cell_type": "code",
   "execution_count": 99,
   "metadata": {},
   "outputs": [],
   "source": [
    "def train(model,X_train, X_valid, y_train, y_valid):\n",
    "    model.fit_generator(generator(X_train,y_train, batch_size = BATCH_SIZE, angle_argument = 0.22),\n",
    "                        samples_per_epoch = X_train.shape[0] // BATCH_SIZE,\n",
    "                        nb_epoch=EPOCHS,\n",
    "                        validation_data = generator(X_valid,y_valid, batch_size = BATCH_SIZE, angle_argument = 0.22),\n",
    "                        nb_val_samples = len(X_valid),\n",
    "                        callbacks=[ModelCheckpoint('tranning.model', monitor='val_acc', save_best_only=True)],\n",
    "                        verbose=1)\n",
    "    "
   ]
  },
  {
   "cell_type": "code",
   "execution_count": 100,
   "metadata": {},
   "outputs": [
    {
     "name": "stdout",
     "output_type": "stream",
     "text": [
      "Epoch 1/50\n"
     ]
    },
    {
     "name": "stderr",
     "output_type": "stream",
     "text": [
      "Exception in thread Thread-7:\n",
      "Traceback (most recent call last):\n",
      "  File \"/home/liangxu/anaconda2/envs/carnd-term1/lib/python3.5/threading.py\", line 914, in _bootstrap_inner\n",
      "    self.run()\n",
      "  File \"/home/liangxu/anaconda2/envs/carnd-term1/lib/python3.5/threading.py\", line 862, in run\n",
      "    self._target(*self._args, **self._kwargs)\n",
      "  File \"/home/liangxu/anaconda2/envs/carnd-term1/lib/python3.5/site-packages/keras/engine/training.py\", line 429, in data_generator_task\n",
      "    generator_output = next(self._generator)\n",
      "  File \"<ipython-input-97-0563eaeae493>\", line 18, in generator\n",
      "    name = './IMG/'+Left.split('/')\n",
      "TypeError: Can't convert 'list' object to str implicitly\n",
      "\n"
     ]
    },
    {
     "ename": "ValueError",
     "evalue": "output of generator should be a tuple (x, y, sample_weight) or (x, y). Found: None",
     "output_type": "error",
     "traceback": [
      "\u001b[0;31m---------------------------------------------------------------------------\u001b[0m",
      "\u001b[0;31mValueError\u001b[0m                                Traceback (most recent call last)",
      "\u001b[0;32m<ipython-input-100-81f8c4796e12>\u001b[0m in \u001b[0;36m<module>\u001b[0;34m()\u001b[0m\n\u001b[1;32m      2\u001b[0m \u001b[0mmodel\u001b[0m \u001b[0;34m=\u001b[0m\u001b[0mmodel\u001b[0m\u001b[0;34m(\u001b[0m\u001b[0;34m)\u001b[0m\u001b[0;34m\u001b[0m\u001b[0m\n\u001b[1;32m      3\u001b[0m \u001b[0;31m#model.summary()\u001b[0m\u001b[0;34m\u001b[0m\u001b[0;34m\u001b[0m\u001b[0m\n\u001b[0;32m----> 4\u001b[0;31m \u001b[0mtrain\u001b[0m\u001b[0;34m(\u001b[0m\u001b[0mmodel\u001b[0m\u001b[0;34m,\u001b[0m\u001b[0mX_train\u001b[0m\u001b[0;34m,\u001b[0m \u001b[0mX_valid\u001b[0m\u001b[0;34m,\u001b[0m \u001b[0my_train\u001b[0m\u001b[0;34m,\u001b[0m \u001b[0my_valid\u001b[0m\u001b[0;34m)\u001b[0m\u001b[0;34m\u001b[0m\u001b[0m\n\u001b[0m\u001b[1;32m      5\u001b[0m \u001b[0mprint\u001b[0m\u001b[0;34m(\u001b[0m\u001b[0;34m\"Liang Xu\"\u001b[0m\u001b[0;34m)\u001b[0m\u001b[0;34m\u001b[0m\u001b[0m\n",
      "\u001b[0;32m<ipython-input-99-6a1f0b6ef948>\u001b[0m in \u001b[0;36mtrain\u001b[0;34m(model, X_train, X_valid, y_train, y_valid)\u001b[0m\n\u001b[1;32m      6\u001b[0m                         \u001b[0mnb_val_samples\u001b[0m \u001b[0;34m=\u001b[0m \u001b[0mlen\u001b[0m\u001b[0;34m(\u001b[0m\u001b[0mX_valid\u001b[0m\u001b[0;34m)\u001b[0m\u001b[0;34m,\u001b[0m\u001b[0;34m\u001b[0m\u001b[0m\n\u001b[1;32m      7\u001b[0m                         \u001b[0mcallbacks\u001b[0m\u001b[0;34m=\u001b[0m\u001b[0;34m[\u001b[0m\u001b[0mModelCheckpoint\u001b[0m\u001b[0;34m(\u001b[0m\u001b[0;34m'tranning.model'\u001b[0m\u001b[0;34m,\u001b[0m \u001b[0mmonitor\u001b[0m\u001b[0;34m=\u001b[0m\u001b[0;34m'val_acc'\u001b[0m\u001b[0;34m,\u001b[0m \u001b[0msave_best_only\u001b[0m\u001b[0;34m=\u001b[0m\u001b[0;32mTrue\u001b[0m\u001b[0;34m)\u001b[0m\u001b[0;34m]\u001b[0m\u001b[0;34m,\u001b[0m\u001b[0;34m\u001b[0m\u001b[0m\n\u001b[0;32m----> 8\u001b[0;31m                         verbose=1)\n\u001b[0m\u001b[1;32m      9\u001b[0m \u001b[0;34m\u001b[0m\u001b[0m\n",
      "\u001b[0;32m~/anaconda2/envs/carnd-term1/lib/python3.5/site-packages/keras/models.py\u001b[0m in \u001b[0;36mfit_generator\u001b[0;34m(self, generator, samples_per_epoch, nb_epoch, verbose, callbacks, validation_data, nb_val_samples, class_weight, max_q_size, nb_worker, pickle_safe, initial_epoch, **kwargs)\u001b[0m\n\u001b[1;32m    933\u001b[0m                                         \u001b[0mnb_worker\u001b[0m\u001b[0;34m=\u001b[0m\u001b[0mnb_worker\u001b[0m\u001b[0;34m,\u001b[0m\u001b[0;34m\u001b[0m\u001b[0m\n\u001b[1;32m    934\u001b[0m                                         \u001b[0mpickle_safe\u001b[0m\u001b[0;34m=\u001b[0m\u001b[0mpickle_safe\u001b[0m\u001b[0;34m,\u001b[0m\u001b[0;34m\u001b[0m\u001b[0m\n\u001b[0;32m--> 935\u001b[0;31m                                         initial_epoch=initial_epoch)\n\u001b[0m\u001b[1;32m    936\u001b[0m \u001b[0;34m\u001b[0m\u001b[0m\n\u001b[1;32m    937\u001b[0m     def evaluate_generator(self, generator, val_samples,\n",
      "\u001b[0;32m~/anaconda2/envs/carnd-term1/lib/python3.5/site-packages/keras/engine/training.py\u001b[0m in \u001b[0;36mfit_generator\u001b[0;34m(self, generator, samples_per_epoch, nb_epoch, verbose, callbacks, validation_data, nb_val_samples, class_weight, max_q_size, nb_worker, pickle_safe, initial_epoch)\u001b[0m\n\u001b[1;32m   1526\u001b[0m                                          \u001b[0;34m'(x, y, sample_weight) '\u001b[0m\u001b[0;34m\u001b[0m\u001b[0m\n\u001b[1;32m   1527\u001b[0m                                          \u001b[0;34m'or (x, y). Found: '\u001b[0m \u001b[0;34m+\u001b[0m\u001b[0;34m\u001b[0m\u001b[0m\n\u001b[0;32m-> 1528\u001b[0;31m                                          str(generator_output))\n\u001b[0m\u001b[1;32m   1529\u001b[0m                     \u001b[0;32mif\u001b[0m \u001b[0mlen\u001b[0m\u001b[0;34m(\u001b[0m\u001b[0mgenerator_output\u001b[0m\u001b[0;34m)\u001b[0m \u001b[0;34m==\u001b[0m \u001b[0;36m2\u001b[0m\u001b[0;34m:\u001b[0m\u001b[0;34m\u001b[0m\u001b[0m\n\u001b[1;32m   1530\u001b[0m                         \u001b[0mx\u001b[0m\u001b[0;34m,\u001b[0m \u001b[0my\u001b[0m \u001b[0;34m=\u001b[0m \u001b[0mgenerator_output\u001b[0m\u001b[0;34m\u001b[0m\u001b[0m\n",
      "\u001b[0;31mValueError\u001b[0m: output of generator should be a tuple (x, y, sample_weight) or (x, y). Found: None"
     ]
    }
   ],
   "source": [
    "X_train, X_valid, y_train, y_valid = loadImage()\n",
    "model =model()\n",
    "#model.summary()\n",
    "train(model,X_train, X_valid, y_train, y_valid)\n",
    "print(\"Liang Xu\")\n"
   ]
  }
 ],
 "metadata": {
  "kernelspec": {
   "display_name": "Python 3",
   "language": "python",
   "name": "python3"
  },
  "language_info": {
   "codemirror_mode": {
    "name": "ipython",
    "version": 3
   },
   "file_extension": ".py",
   "mimetype": "text/x-python",
   "name": "python",
   "nbconvert_exporter": "python",
   "pygments_lexer": "ipython3",
   "version": "3.5.2"
  },
  "widgets": {
   "state": {},
   "version": "1.1.2"
  }
 },
 "nbformat": 4,
 "nbformat_minor": 2
}
